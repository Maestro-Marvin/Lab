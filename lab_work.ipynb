{
  "nbformat": 4,
  "nbformat_minor": 0,
  "metadata": {
    "colab": {
      "provenance": []
    },
    "kernelspec": {
      "name": "python3",
      "display_name": "Python 3"
    },
    "language_info": {
      "name": "python"
    }
  },
  "cells": [
    {
      "cell_type": "markdown",
      "source": [
        "# Лабораторная работа"
      ],
      "metadata": {
        "id": "rloJD2luQnuQ"
      }
    },
    {
      "cell_type": "markdown",
      "source": [
        "Баллы за секции:\n",
        "- *Задание 1* - 10 баллов\n",
        "- *Задание 2* - 20 баллов\n",
        "- *Задание 3* - 30 баллов\n",
        "- **Итого** - 60 баллов\n",
        "\n",
        "Оценка за лабу $ = \\frac{score}{6}$"
      ],
      "metadata": {
        "id": "xIZ02xiML9p_"
      }
    },
    {
      "cell_type": "markdown",
      "source": [
        "## Внимание! Attention! Achtung!"
      ],
      "metadata": {
        "id": "OEDe7x8YRID0"
      }
    },
    {
      "cell_type": "markdown",
      "source": [
        "**Данная лабораторная работа является блокирующей**, т.е. если лабораторная работа не выполнена, то оценка за курс - неуд.\n",
        "\n",
        "Лабораторная работа считается выполненной, если **за каждое из заданий получено не менее 2 баллов**."
      ],
      "metadata": {
        "id": "ZEmKA-7NR1Y9"
      }
    },
    {
      "cell_type": "markdown",
      "source": [
        "## Формат сдачи лабораторной работы"
      ],
      "metadata": {
        "id": "N1ZbZ8dkR5q_"
      }
    },
    {
      "cell_type": "markdown",
      "source": [
        "Данная лабораторная работа сдается так же, как и проект - заполняете данный ноутбук, отправляете его через GitHub с указанием проверяющего."
      ],
      "metadata": {
        "id": "tEwx7LLQR-h8"
      }
    },
    {
      "cell_type": "markdown",
      "source": [
        "**Ассистенты не будут запускать ячейки кода, а смотреть на выведенный результат и код. Если ячейка кода не запущена - балл не ставится, даже при правильно написанном коде.**\n",
        "\n",
        "***(Комментарии что курс по Python легче чем по C++ учтены)***"
      ],
      "metadata": {
        "id": "qKwaNCJKj7b8"
      }
    },
    {
      "cell_type": "markdown",
      "source": [
        ">**Примечание**\n",
        ">\n",
        ">Данные задания вдохновлены предметом \"Введение в анализ данных\" 2 курса, по итогу которого идёт отбор на DS-поток. Если вы видите себя в смежных областях, советуем выполнить данную лабораторку по максимуму."
      ],
      "metadata": {
        "id": "hlUYK7MDRGye"
      }
    },
    {
      "cell_type": "code",
      "source": [
        "# Всё необходимое для выполнения данной лабораторной работы!\n",
        "import requests\n",
        "from time import sleep\n",
        "\n",
        "import numpy as np\n",
        "import pandas as pd\n",
        "import matplotlib.pyplot as plt\n",
        "import seaborn as sns"
      ],
      "metadata": {
        "id": "1qzEqvohoZfB"
      },
      "execution_count": 1,
      "outputs": []
    },
    {
      "cell_type": "markdown",
      "source": [
        "## Задание 1. Парсинг - 10 баллов"
      ],
      "metadata": {
        "id": "rB_FYHU2k8w-"
      }
    },
    {
      "cell_type": "markdown",
      "source": [
        "В этом задании Вам предстоит работать с API сайта <a target=\"_blank\" href=\"hh.ru\">hh.ru</a>. Документация доступна по <a target=\"_blank\" href=\"https://github.com/hhru/api/blob/master/docs/vacancies.md#search\">ссылке</a>."
      ],
      "metadata": {
        "id": "F0gr5cjaoQJy"
      }
    },
    {
      "cell_type": "markdown",
      "source": [
        "<b><font color=\"red\">Внимание!</font> При работе с API не забывайте делать паузы между запросами, иначе вас забанят. Просрочка дедлайна по этой причине не принимается!</b>"
      ],
      "metadata": {
        "id": "v8iCQYk7TNvK"
      }
    },
    {
      "cell_type": "markdown",
      "source": [
        "**Задача:**\n",
        "1. выбрать 5 интересующих вас профессий (не смежных, т.е. Аналатик и Data Engineer не считается корректным)\n",
        "2. затем получить доступные по данным профессиям вакансии в Москве и выделить их физические координаты\n",
        "3. нанести полученные координаты на карту местоположения компаний"
      ],
      "metadata": {
        "id": "-HAm80rqRqAZ"
      }
    },
    {
      "cell_type": "markdown",
      "source": [
        "*Пример запроса для профессии:*"
      ],
      "metadata": {
        "id": "H0GhQJvipXYj"
      }
    },
    {
      "cell_type": "markdown",
      "source": [
        "Если Ваш запрос прошел успешно, то вы получите следующие ключи (значения данных ключей вы найдете по ссылке на документацию):"
      ],
      "metadata": {
        "id": "yHQtIBRQp91_"
      }
    },
    {
      "cell_type": "code",
      "source": [
        "URL = 'https://api.hh.ru/vacancies'\n",
        "\n",
        "params = {\n",
        "    'text': \"Физик-ядерщик\",\n",
        "    'area': 1,\n",
        "    'page': 0,\n",
        "    'per_page': 10\n",
        "}\n",
        "\n",
        "data = requests.get(URL, params).json()"
      ],
      "metadata": {
        "id": "aZLGoS_DpsXI"
      },
      "execution_count": 3,
      "outputs": []
    },
    {
      "cell_type": "code",
      "source": [
        "data.keys()"
      ],
      "metadata": {
        "colab": {
          "base_uri": "https://localhost:8080/"
        },
        "id": "DW6mxzggpvKw",
        "outputId": "a284ee47-486c-402a-fe26-88fa9677a98d"
      },
      "execution_count": null,
      "outputs": [
        {
          "output_type": "execute_result",
          "data": {
            "text/plain": [
              "dict_keys(['items', 'found', 'pages', 'per_page', 'page', 'clusters', 'arguments', 'alternate_url'])"
            ]
          },
          "metadata": {},
          "execution_count": 8
        }
      ]
    },
    {
      "cell_type": "markdown",
      "source": [
        ">**Примечание**\n",
        ">\n",
        ">В `data['pages']` будет хранится количество найденных страниц вакансий - для корректного сбора данных Вам нужно пробежать по **КАЖДОЙ** странице и сделать соотвествующие запросы."
      ],
      "metadata": {
        "id": "O-qAwsmrTAvQ"
      }
    },
    {
      "cell_type": "markdown",
      "source": [
        ">**Совет**\n",
        ">\n",
        ">Посмотрите что хранится в `items`!"
      ],
      "metadata": {
        "id": "OEPOQVYxsMyN"
      }
    },
    {
      "cell_type": "markdown",
      "source": [
        "(1 балл) Выберете для нас 5 наиболее интересных специальностей и получите по ним имеющиеся вакансии:"
      ],
      "metadata": {
        "id": "JWvkFrh9qhkj"
      }
    },
    {
      "cell_type": "code",
      "source": [
        "professions = [\"Бармен\", \"Фермер\", \"Агент влияния\", \"Химик\", \"Волонтёр\"]\n",
        "data = dict()\n",
        "for i in range(len(professions)):\n",
        "  ans = 0\n",
        "  j = 0\n",
        "  jobs = []\n",
        "  while True:\n",
        "    params_j = {\n",
        "      'text': professions[i],\n",
        "      'area': 1,\n",
        "      'page': j,\n",
        "      'per_page': 100\n",
        "    }\n",
        "    data_j = requests.get(URL, params_j).json()\n",
        "    sleep(0.01)\n",
        "    if len(data_j[\"items\"]) == 0:\n",
        "      break\n",
        "    ans += len(data_j[\"items\"])\n",
        "    jobs += data_j[\"items\"]\n",
        "    j += 1\n",
        "  data[professions[i]] = jobs\n",
        "  print(professions[i] + \" : \", ans)"
      ],
      "metadata": {
        "colab": {
          "base_uri": "https://localhost:8080/"
        },
        "id": "3GMbr98yfRMF",
        "outputId": "5f0488aa-7161-40ff-be16-87b6abba94b4"
      },
      "execution_count": 4,
      "outputs": [
        {
          "output_type": "stream",
          "name": "stdout",
          "text": [
            "Бармен :  819\n",
            "Фермер :  44\n",
            "Агент влияния :  25\n",
            "Химик :  504\n",
            "Волонтёр :  113\n"
          ]
        }
      ]
    },
    {
      "cell_type": "markdown",
      "source": [
        "(1 балл) Посчитайте сколько всего найдено вакансий:"
      ],
      "metadata": {
        "id": "g0bdgyNWquuY"
      }
    },
    {
      "cell_type": "code",
      "source": [
        "ans = 0\n",
        "for profession in data:\n",
        "\tans += len(data[profession])\n",
        "print(\"Всего : \", ans)"
      ],
      "metadata": {
        "id": "lxyXtIs6q5cc",
        "colab": {
          "base_uri": "https://localhost:8080/"
        },
        "outputId": "7351d545-6b3d-41d9-a7d5-ba1ac0f1a62e"
      },
      "execution_count": 5,
      "outputs": [
        {
          "output_type": "stream",
          "name": "stdout",
          "text": [
            "Всего :  1505\n"
          ]
        }
      ]
    },
    {
      "cell_type": "markdown",
      "source": [
        "(1 балл) Создайте структуру данных, которая будет хранить в себе имя компании и ее координаты (широта и долгота):"
      ],
      "metadata": {
        "id": "wQeULnNyq5wk"
      }
    },
    {
      "cell_type": "code",
      "source": [
        "class Company:\n",
        "    def __init__(self, name, lat, lng):\n",
        "      self.name = name\n",
        "      self.lat = lat\n",
        "      self.lng = lng\n"
      ],
      "metadata": {
        "id": "aR501yltVdLm"
      },
      "execution_count": 6,
      "outputs": []
    },
    {
      "cell_type": "markdown",
      "source": [
        "(1 балл) Создайте экземпляр этой структуры данных для каждой компании, которая выставила вакансию:"
      ],
      "metadata": {
        "id": "ccIi3wIvVkG0"
      }
    },
    {
      "cell_type": "code",
      "source": [
        "data_companies = []\n",
        "for profession in data:\n",
        "  data_j = data[profession]\n",
        "  for company in data_j:\n",
        "    name = company[\"name\"]\n",
        "    lat = None\n",
        "    if company is not None and company[\"address\"] is not None:\n",
        "      lat = company[\"address\"][\"lat\"]\n",
        "    lng = None\n",
        "    if company is not None and company[\"address\"] is not None:\n",
        "      lng = company[\"address\"][\"lng\"]\n",
        "    data_companies.append(Company(name, lat, lng))\n",
        "  j += 1"
      ],
      "metadata": {
        "id": "UiXDYQaXATi6"
      },
      "execution_count": 9,
      "outputs": []
    },
    {
      "cell_type": "markdown",
      "source": [
        "(1 балл) Найдите количество вакансий, у которых заданы координаты (значения данных может быть пустым):"
      ],
      "metadata": {
        "id": "SyBpNd0vtcNu"
      }
    },
    {
      "cell_type": "code",
      "source": [
        "cnt = 0\n",
        "for company in data_companies:\n",
        "\tif company.lat is not None and company.lng is not None:\n",
        "\t \tcnt += 1\n",
        "\n",
        "print(cnt)"
      ],
      "metadata": {
        "id": "lVgNCVALt2qJ",
        "colab": {
          "base_uri": "https://localhost:8080/"
        },
        "outputId": "e0e3f5ee-4950-49af-8faf-a75d316b320c"
      },
      "execution_count": 10,
      "outputs": [
        {
          "output_type": "stream",
          "name": "stdout",
          "text": [
            "1087\n"
          ]
        }
      ]
    },
    {
      "cell_type": "markdown",
      "source": [
        "(1 балл) Отберите вакансии, которые расположены в пределах МКАД (можно грубо):"
      ],
      "metadata": {
        "id": "aWNXrM-cu5Vi"
      }
    },
    {
      "cell_type": "code",
      "source": [
        "# your code here"
      ],
      "metadata": {
        "id": "01g9wVEyyn-J"
      },
      "execution_count": null,
      "outputs": []
    },
    {
      "cell_type": "markdown",
      "source": [
        "(1 балл) Постройте график в координатах \"широта-долгота\" для отображения вакансий внутри МКАД (не забывайте прописать прозрачность, чтобы увидеть скопления):"
      ],
      "metadata": {
        "id": "4LCb9IL_bgB_"
      }
    },
    {
      "cell_type": "code",
      "source": [
        "# your code here"
      ],
      "metadata": {
        "id": "6ogiXDvKcDV8"
      },
      "execution_count": null,
      "outputs": []
    },
    {
      "cell_type": "markdown",
      "source": [
        "(1 балл) Нанесите все точки вакансий на карту (для этого вам поможет данная <a target=\"_blank\" href=\"https://plotly.com/python/mapbox-layers/\">документации</a>, не забудьте про прозрачность и центрирование по Москве): "
      ],
      "metadata": {
        "id": "YvS8b7eqt214"
      }
    },
    {
      "cell_type": "code",
      "source": [
        "# your code here"
      ],
      "metadata": {
        "id": "1ceHEBdAys8o"
      },
      "execution_count": null,
      "outputs": []
    },
    {
      "cell_type": "markdown",
      "source": [
        "(2 балла) **Сделайте выводы о проделанной работе:**"
      ],
      "metadata": {
        "id": "u-p3Llc361PN"
      }
    },
    {
      "cell_type": "markdown",
      "source": [
        ">*Подсказки для маленьких: Что вы можете сказать про районы Москвы? Что вы можете сказать про зарплаты? Что вы можете сказать про спрос?*"
      ],
      "metadata": {
        "id": "G1c3d-qALobz"
      }
    },
    {
      "cell_type": "markdown",
      "source": [
        "Ваши выводы здесь :)"
      ],
      "metadata": {
        "id": "gkPpbtBuVqwc"
      }
    },
    {
      "cell_type": "markdown",
      "source": [
        "## Задание 2. Анализ данных - 20 баллов"
      ],
      "metadata": {
        "id": "wVcCTF_Zz58q"
      }
    },
    {
      "cell_type": "markdown",
      "source": [
        "Вам предстоит проанализировать датасет, содержащий информацию об бриллианта, их стоимости и остальных характеристиках."
      ],
      "metadata": {
        "id": "lii5YFuucxR2"
      }
    },
    {
      "cell_type": "markdown",
      "source": [
        "\n",
        "\n",
        "Поясним значения хранящиеся в колонках:\n",
        "*   `cut` - огранка бриллианта (относится к одной из примерно 10 наиболее распространенных)\n",
        "*   `color` - цвет бриллианта, прозрачные бриллианты имеют градацию `D-Z`, \"более высокие\" буквы - более желтоватые, но часто имеют лучшие значения, поскольку цвет трудно определить один раз в кольце\n",
        "*   `clarity` - чистота бриллианта, наличие включений (внутренних дефектов), чем меньше и мельче, тем лучше\n",
        "*   `carat_weight` - масса бриллианта (слабо связана с размером бриллианта, т.к. огранка и качество огранки, как правило, играют большую роль)\n",
        "*   `cut_quality` - качество ограники по системе оценки GIA Cut\n",
        "*   `lab` - лаборатория оценивания\n",
        "*   `meas_length` - длина бриллианта\n",
        "*   `meas_width` - ширина бриллианта\n",
        "*   `meas_depth` - глубина бриллианта\n",
        "*   `total_sales_price` - цена бриллианта в долларах.\n",
        "*    **и прочие колонки**"
      ],
      "metadata": {
        "id": "CvEO3-NI0Gez"
      }
    },
    {
      "cell_type": "markdown",
      "source": [
        "Скачаем данные:"
      ],
      "metadata": {
        "id": "7mK1QntN6ZXh"
      }
    },
    {
      "cell_type": "code",
      "source": [
        "!gdown 1uIWeZFz3ElB5p1brBVEwJBHTbjXNPdfU"
      ],
      "metadata": {
        "id": "LnCK3gCoebjw",
        "colab": {
          "base_uri": "https://localhost:8080/"
        },
        "outputId": "13c0af7f-5381-420c-f9d6-7adb0257544b"
      },
      "execution_count": 11,
      "outputs": [
        {
          "output_type": "stream",
          "name": "stdout",
          "text": [
            "Downloading...\n",
            "From: https://drive.google.com/uc?id=1uIWeZFz3ElB5p1brBVEwJBHTbjXNPdfU\n",
            "To: /content/diamonds.csv\n",
            "100% 35.4M/35.4M [00:00<00:00, 243MB/s]\n"
          ]
        }
      ]
    },
    {
      "cell_type": "markdown",
      "source": [
        "Создадим DataFrame:"
      ],
      "metadata": {
        "id": "wfSqVYoIfi3-"
      }
    },
    {
      "cell_type": "code",
      "source": [
        "diamonds = pd.read_csv(\"diamonds.csv\")"
      ],
      "metadata": {
        "id": "cDgRJzRp6Ow4"
      },
      "execution_count": 12,
      "outputs": []
    },
    {
      "cell_type": "markdown",
      "source": [
        "(0.5 балла) Выведете первые 5 строк датасета:"
      ],
      "metadata": {
        "id": "vlw_3lXG6bhv"
      }
    },
    {
      "cell_type": "code",
      "source": [
        "diamonds.head(n = 5)"
      ],
      "metadata": {
        "id": "gHA-AnSE6fth",
        "colab": {
          "base_uri": "https://localhost:8080/",
          "height": 404
        },
        "outputId": "b1e45c37-63ac-4263-c160-197c2084711b"
      },
      "execution_count": 13,
      "outputs": [
        {
          "output_type": "execute_result",
          "data": {
            "text/plain": [
              "   Unnamed: 0    cut color clarity  carat_weight cut_quality  lab   symmetry  \\\n",
              "0           0  Round     E    VVS2          0.09   Excellent  IGI  Very Good   \n",
              "1           1  Round     E    VVS2          0.09   Very Good  IGI  Very Good   \n",
              "2           2  Round     E    VVS2          0.09   Excellent  IGI  Very Good   \n",
              "3           3  Round     E    VVS2          0.09   Excellent  IGI  Very Good   \n",
              "4           4  Round     E    VVS2          0.09   Very Good  IGI  Very Good   \n",
              "\n",
              "      polish eye_clean  ... meas_depth girdle_min  girdle_max  fluor_color  \\\n",
              "0  Very Good   unknown  ...       1.79          M           M      unknown   \n",
              "1  Very Good   unknown  ...       1.78        STK         STK      unknown   \n",
              "2  Very Good   unknown  ...       1.77         TN           M      unknown   \n",
              "3  Very Good   unknown  ...       1.78          M         STK      unknown   \n",
              "4  Excellent   unknown  ...       1.82        STK         STK      unknown   \n",
              "\n",
              "   fluor_intensity  fancy_color_dominant_color  fancy_color_secondary_color  \\\n",
              "0             None                     unknown                      unknown   \n",
              "1             None                     unknown                      unknown   \n",
              "2             None                     unknown                      unknown   \n",
              "3             None                     unknown                      unknown   \n",
              "4             None                     unknown                      unknown   \n",
              "\n",
              "  fancy_color_overtone fancy_color_intensity total_sales_price  \n",
              "0              unknown               unknown               200  \n",
              "1              unknown               unknown               200  \n",
              "2              unknown               unknown               200  \n",
              "3              unknown               unknown               200  \n",
              "4              unknown               unknown               200  \n",
              "\n",
              "[5 rows x 26 columns]"
            ],
            "text/html": [
              "\n",
              "  <div id=\"df-00d945de-83b4-4562-ac5f-80c973ae0ebf\">\n",
              "    <div class=\"colab-df-container\">\n",
              "      <div>\n",
              "<style scoped>\n",
              "    .dataframe tbody tr th:only-of-type {\n",
              "        vertical-align: middle;\n",
              "    }\n",
              "\n",
              "    .dataframe tbody tr th {\n",
              "        vertical-align: top;\n",
              "    }\n",
              "\n",
              "    .dataframe thead th {\n",
              "        text-align: right;\n",
              "    }\n",
              "</style>\n",
              "<table border=\"1\" class=\"dataframe\">\n",
              "  <thead>\n",
              "    <tr style=\"text-align: right;\">\n",
              "      <th></th>\n",
              "      <th>Unnamed: 0</th>\n",
              "      <th>cut</th>\n",
              "      <th>color</th>\n",
              "      <th>clarity</th>\n",
              "      <th>carat_weight</th>\n",
              "      <th>cut_quality</th>\n",
              "      <th>lab</th>\n",
              "      <th>symmetry</th>\n",
              "      <th>polish</th>\n",
              "      <th>eye_clean</th>\n",
              "      <th>...</th>\n",
              "      <th>meas_depth</th>\n",
              "      <th>girdle_min</th>\n",
              "      <th>girdle_max</th>\n",
              "      <th>fluor_color</th>\n",
              "      <th>fluor_intensity</th>\n",
              "      <th>fancy_color_dominant_color</th>\n",
              "      <th>fancy_color_secondary_color</th>\n",
              "      <th>fancy_color_overtone</th>\n",
              "      <th>fancy_color_intensity</th>\n",
              "      <th>total_sales_price</th>\n",
              "    </tr>\n",
              "  </thead>\n",
              "  <tbody>\n",
              "    <tr>\n",
              "      <th>0</th>\n",
              "      <td>0</td>\n",
              "      <td>Round</td>\n",
              "      <td>E</td>\n",
              "      <td>VVS2</td>\n",
              "      <td>0.09</td>\n",
              "      <td>Excellent</td>\n",
              "      <td>IGI</td>\n",
              "      <td>Very Good</td>\n",
              "      <td>Very Good</td>\n",
              "      <td>unknown</td>\n",
              "      <td>...</td>\n",
              "      <td>1.79</td>\n",
              "      <td>M</td>\n",
              "      <td>M</td>\n",
              "      <td>unknown</td>\n",
              "      <td>None</td>\n",
              "      <td>unknown</td>\n",
              "      <td>unknown</td>\n",
              "      <td>unknown</td>\n",
              "      <td>unknown</td>\n",
              "      <td>200</td>\n",
              "    </tr>\n",
              "    <tr>\n",
              "      <th>1</th>\n",
              "      <td>1</td>\n",
              "      <td>Round</td>\n",
              "      <td>E</td>\n",
              "      <td>VVS2</td>\n",
              "      <td>0.09</td>\n",
              "      <td>Very Good</td>\n",
              "      <td>IGI</td>\n",
              "      <td>Very Good</td>\n",
              "      <td>Very Good</td>\n",
              "      <td>unknown</td>\n",
              "      <td>...</td>\n",
              "      <td>1.78</td>\n",
              "      <td>STK</td>\n",
              "      <td>STK</td>\n",
              "      <td>unknown</td>\n",
              "      <td>None</td>\n",
              "      <td>unknown</td>\n",
              "      <td>unknown</td>\n",
              "      <td>unknown</td>\n",
              "      <td>unknown</td>\n",
              "      <td>200</td>\n",
              "    </tr>\n",
              "    <tr>\n",
              "      <th>2</th>\n",
              "      <td>2</td>\n",
              "      <td>Round</td>\n",
              "      <td>E</td>\n",
              "      <td>VVS2</td>\n",
              "      <td>0.09</td>\n",
              "      <td>Excellent</td>\n",
              "      <td>IGI</td>\n",
              "      <td>Very Good</td>\n",
              "      <td>Very Good</td>\n",
              "      <td>unknown</td>\n",
              "      <td>...</td>\n",
              "      <td>1.77</td>\n",
              "      <td>TN</td>\n",
              "      <td>M</td>\n",
              "      <td>unknown</td>\n",
              "      <td>None</td>\n",
              "      <td>unknown</td>\n",
              "      <td>unknown</td>\n",
              "      <td>unknown</td>\n",
              "      <td>unknown</td>\n",
              "      <td>200</td>\n",
              "    </tr>\n",
              "    <tr>\n",
              "      <th>3</th>\n",
              "      <td>3</td>\n",
              "      <td>Round</td>\n",
              "      <td>E</td>\n",
              "      <td>VVS2</td>\n",
              "      <td>0.09</td>\n",
              "      <td>Excellent</td>\n",
              "      <td>IGI</td>\n",
              "      <td>Very Good</td>\n",
              "      <td>Very Good</td>\n",
              "      <td>unknown</td>\n",
              "      <td>...</td>\n",
              "      <td>1.78</td>\n",
              "      <td>M</td>\n",
              "      <td>STK</td>\n",
              "      <td>unknown</td>\n",
              "      <td>None</td>\n",
              "      <td>unknown</td>\n",
              "      <td>unknown</td>\n",
              "      <td>unknown</td>\n",
              "      <td>unknown</td>\n",
              "      <td>200</td>\n",
              "    </tr>\n",
              "    <tr>\n",
              "      <th>4</th>\n",
              "      <td>4</td>\n",
              "      <td>Round</td>\n",
              "      <td>E</td>\n",
              "      <td>VVS2</td>\n",
              "      <td>0.09</td>\n",
              "      <td>Very Good</td>\n",
              "      <td>IGI</td>\n",
              "      <td>Very Good</td>\n",
              "      <td>Excellent</td>\n",
              "      <td>unknown</td>\n",
              "      <td>...</td>\n",
              "      <td>1.82</td>\n",
              "      <td>STK</td>\n",
              "      <td>STK</td>\n",
              "      <td>unknown</td>\n",
              "      <td>None</td>\n",
              "      <td>unknown</td>\n",
              "      <td>unknown</td>\n",
              "      <td>unknown</td>\n",
              "      <td>unknown</td>\n",
              "      <td>200</td>\n",
              "    </tr>\n",
              "  </tbody>\n",
              "</table>\n",
              "<p>5 rows × 26 columns</p>\n",
              "</div>\n",
              "      <button class=\"colab-df-convert\" onclick=\"convertToInteractive('df-00d945de-83b4-4562-ac5f-80c973ae0ebf')\"\n",
              "              title=\"Convert this dataframe to an interactive table.\"\n",
              "              style=\"display:none;\">\n",
              "        \n",
              "  <svg xmlns=\"http://www.w3.org/2000/svg\" height=\"24px\"viewBox=\"0 0 24 24\"\n",
              "       width=\"24px\">\n",
              "    <path d=\"M0 0h24v24H0V0z\" fill=\"none\"/>\n",
              "    <path d=\"M18.56 5.44l.94 2.06.94-2.06 2.06-.94-2.06-.94-.94-2.06-.94 2.06-2.06.94zm-11 1L8.5 8.5l.94-2.06 2.06-.94-2.06-.94L8.5 2.5l-.94 2.06-2.06.94zm10 10l.94 2.06.94-2.06 2.06-.94-2.06-.94-.94-2.06-.94 2.06-2.06.94z\"/><path d=\"M17.41 7.96l-1.37-1.37c-.4-.4-.92-.59-1.43-.59-.52 0-1.04.2-1.43.59L10.3 9.45l-7.72 7.72c-.78.78-.78 2.05 0 2.83L4 21.41c.39.39.9.59 1.41.59.51 0 1.02-.2 1.41-.59l7.78-7.78 2.81-2.81c.8-.78.8-2.07 0-2.86zM5.41 20L4 18.59l7.72-7.72 1.47 1.35L5.41 20z\"/>\n",
              "  </svg>\n",
              "      </button>\n",
              "      \n",
              "  <style>\n",
              "    .colab-df-container {\n",
              "      display:flex;\n",
              "      flex-wrap:wrap;\n",
              "      gap: 12px;\n",
              "    }\n",
              "\n",
              "    .colab-df-convert {\n",
              "      background-color: #E8F0FE;\n",
              "      border: none;\n",
              "      border-radius: 50%;\n",
              "      cursor: pointer;\n",
              "      display: none;\n",
              "      fill: #1967D2;\n",
              "      height: 32px;\n",
              "      padding: 0 0 0 0;\n",
              "      width: 32px;\n",
              "    }\n",
              "\n",
              "    .colab-df-convert:hover {\n",
              "      background-color: #E2EBFA;\n",
              "      box-shadow: 0px 1px 2px rgba(60, 64, 67, 0.3), 0px 1px 3px 1px rgba(60, 64, 67, 0.15);\n",
              "      fill: #174EA6;\n",
              "    }\n",
              "\n",
              "    [theme=dark] .colab-df-convert {\n",
              "      background-color: #3B4455;\n",
              "      fill: #D2E3FC;\n",
              "    }\n",
              "\n",
              "    [theme=dark] .colab-df-convert:hover {\n",
              "      background-color: #434B5C;\n",
              "      box-shadow: 0px 1px 3px 1px rgba(0, 0, 0, 0.15);\n",
              "      filter: drop-shadow(0px 1px 2px rgba(0, 0, 0, 0.3));\n",
              "      fill: #FFFFFF;\n",
              "    }\n",
              "  </style>\n",
              "\n",
              "      <script>\n",
              "        const buttonEl =\n",
              "          document.querySelector('#df-00d945de-83b4-4562-ac5f-80c973ae0ebf button.colab-df-convert');\n",
              "        buttonEl.style.display =\n",
              "          google.colab.kernel.accessAllowed ? 'block' : 'none';\n",
              "\n",
              "        async function convertToInteractive(key) {\n",
              "          const element = document.querySelector('#df-00d945de-83b4-4562-ac5f-80c973ae0ebf');\n",
              "          const dataTable =\n",
              "            await google.colab.kernel.invokeFunction('convertToInteractive',\n",
              "                                                     [key], {});\n",
              "          if (!dataTable) return;\n",
              "\n",
              "          const docLinkHtml = 'Like what you see? Visit the ' +\n",
              "            '<a target=\"_blank\" href=https://colab.research.google.com/notebooks/data_table.ipynb>data table notebook</a>'\n",
              "            + ' to learn more about interactive tables.';\n",
              "          element.innerHTML = '';\n",
              "          dataTable['output_type'] = 'display_data';\n",
              "          await google.colab.output.renderOutput(dataTable, element);\n",
              "          const docLink = document.createElement('div');\n",
              "          docLink.innerHTML = docLinkHtml;\n",
              "          element.appendChild(docLink);\n",
              "        }\n",
              "      </script>\n",
              "    </div>\n",
              "  </div>\n",
              "  "
            ]
          },
          "metadata": {},
          "execution_count": 13
        }
      ]
    },
    {
      "cell_type": "markdown",
      "source": [
        "(0.5 балла) Найдите количество бриллиантов всего в данном датасете:"
      ],
      "metadata": {
        "id": "gat7bnPQ6fCE"
      }
    },
    {
      "cell_type": "code",
      "source": [
        "len(diamonds)"
      ],
      "metadata": {
        "id": "-9x6z3-J7C-v",
        "colab": {
          "base_uri": "https://localhost:8080/"
        },
        "outputId": "3ee2024c-66a1-4221-ddae-c218671c23da"
      },
      "execution_count": 14,
      "outputs": [
        {
          "output_type": "execute_result",
          "data": {
            "text/plain": [
              "219703"
            ]
          },
          "metadata": {},
          "execution_count": 14
        }
      ]
    },
    {
      "cell_type": "markdown",
      "source": [
        "(0.5 балла) Выведите максимальную и минимальную цену бриллианта в формате `номер - цена`:"
      ],
      "metadata": {
        "id": "fYQuIdtL7DFp"
      }
    },
    {
      "cell_type": "code",
      "source": [
        "max_price = diamonds[\"total_sales_price\"].max()\n",
        "for index, row in diamonds.iterrows():\n",
        "  if row[\"total_sales_price\"] == max_price:\n",
        "    print(index, max_price)\n",
        "\n",
        "min_price = diamonds[\"total_sales_price\"].min()\n",
        "for index, row in diamonds.iterrows():\n",
        "  if row[\"total_sales_price\"] == min_price:\n",
        "    print(index, min_price)\n"
      ],
      "metadata": {
        "id": "D_7sjzjP7SEj",
        "colab": {
          "base_uri": "https://localhost:8080/"
        },
        "outputId": "c5cf739e-bac3-46b9-b624-09a35f49feca"
      },
      "execution_count": null,
      "outputs": [
        {
          "output_type": "stream",
          "name": "stdout",
          "text": [
            "219702 1449881\n",
            "0 200\n",
            "1 200\n",
            "2 200\n",
            "3 200\n",
            "4 200\n",
            "5 200\n",
            "6 200\n",
            "7 200\n",
            "8 200\n",
            "9 200\n",
            "10 200\n",
            "11 200\n",
            "12 200\n",
            "13 200\n",
            "14 200\n",
            "15 200\n",
            "16 200\n",
            "17 200\n",
            "18 200\n",
            "19 200\n",
            "20 200\n",
            "21 200\n",
            "22 200\n"
          ]
        }
      ]
    },
    {
      "cell_type": "markdown",
      "source": [
        "(1 балл) Посчитайте количество пропусков (пропуском считается значение `unknown` или `None`):"
      ],
      "metadata": {
        "id": "E2mf4IIO7SOg"
      }
    },
    {
      "cell_type": "code",
      "source": [
        "diamonds.replace(to_replace=[\"unknown\", None], value=np.nan, inplace=True)\n",
        "diamonds.isna().sum().sum()"
      ],
      "metadata": {
        "id": "BuJZ0UoN7qAU",
        "colab": {
          "base_uri": "https://localhost:8080/"
        },
        "outputId": "b33fbf31-2544-473a-9ee8-d736b2644dc1"
      },
      "execution_count": 11,
      "outputs": [
        {
          "output_type": "execute_result",
          "data": {
            "text/plain": [
              "1746027"
            ]
          },
          "metadata": {},
          "execution_count": 11
        }
      ]
    },
    {
      "cell_type": "markdown",
      "source": [
        "(1 балл) Найдите в каких столбцах присутствуют пропуски:"
      ],
      "metadata": {
        "id": "d5LWUc_fh0vb"
      }
    },
    {
      "cell_type": "code",
      "source": [
        "list(diamonds.columns[diamonds.isna().any(axis=0)])"
      ],
      "metadata": {
        "id": "IsU49Fouh5vy",
        "colab": {
          "base_uri": "https://localhost:8080/"
        },
        "outputId": "cfaa259c-43e8-45a1-e5b9-edada8dae9c7"
      },
      "execution_count": null,
      "outputs": [
        {
          "output_type": "execute_result",
          "data": {
            "text/plain": [
              "['color',\n",
              " 'cut_quality',\n",
              " 'eye_clean',\n",
              " 'culet_size',\n",
              " 'culet_condition',\n",
              " 'girdle_min',\n",
              " 'girdle_max',\n",
              " 'fluor_color',\n",
              " 'fluor_intensity',\n",
              " 'fancy_color_dominant_color',\n",
              " 'fancy_color_secondary_color',\n",
              " 'fancy_color_overtone',\n",
              " 'fancy_color_intensity']"
            ]
          },
          "metadata": {},
          "execution_count": 18
        }
      ]
    },
    {
      "cell_type": "markdown",
      "source": [
        "В нашем датасете присутствуют колонки, которые начинаются с `fancy_color_` или `fluor_`. Большинство значений в этих колонках - `unknown` или `None`, поэтому мы считаем их малоинформативными. "
      ],
      "metadata": {
        "id": "UznNZpJ47qGX"
      }
    },
    {
      "cell_type": "markdown",
      "source": [
        "Ваша задача:"
      ],
      "metadata": {
        "id": "Rkk6Hr2Ui87X"
      }
    },
    {
      "cell_type": "markdown",
      "source": [
        "1. (0.5 балла) найти количество таких колонок, которые начинаются с `fancy_color_` или `fluor_`:"
      ],
      "metadata": {
        "id": "YYBDAgSSi-JU"
      }
    },
    {
      "cell_type": "code",
      "source": [
        "cols = diamonds.columns[diamonds.columns.str.startswith((\"fancy_color_\", \"fluor_\"))]\n",
        "len(cols)"
      ],
      "metadata": {
        "id": "nbTUkk4T8-wO",
        "colab": {
          "base_uri": "https://localhost:8080/"
        },
        "outputId": "ba5c3782-2bc6-4213-94eb-a1825e16596f"
      },
      "execution_count": 8,
      "outputs": [
        {
          "output_type": "execute_result",
          "data": {
            "text/plain": [
              "6"
            ]
          },
          "metadata": {},
          "execution_count": 8
        }
      ]
    },
    {
      "cell_type": "markdown",
      "source": [
        "2. (0.5 балла) найти количество информативных (не `None` или `unknown`) значений в этих колонках: "
      ],
      "metadata": {
        "id": "imop6nNujA6z"
      }
    },
    {
      "cell_type": "code",
      "source": [
        "diamonds[cols].notna().sum()"
      ],
      "metadata": {
        "id": "jtJcBwAVjPHU",
        "colab": {
          "base_uri": "https://localhost:8080/"
        },
        "outputId": "f03e88cc-5181-4533-d45f-6e2cc75ee97a"
      },
      "execution_count": 12,
      "outputs": [
        {
          "output_type": "execute_result",
          "data": {
            "text/plain": [
              "fluor_color                     15726\n",
              "fluor_intensity                219575\n",
              "fancy_color_dominant_color       9164\n",
              "fancy_color_secondary_color      1062\n",
              "fancy_color_overtone             2038\n",
              "fancy_color_intensity            9162\n",
              "dtype: int64"
            ]
          },
          "metadata": {},
          "execution_count": 12
        }
      ]
    },
    {
      "cell_type": "markdown",
      "source": [
        "3. (0.5 балла) удалить данные колонки из датасета, сохранив изменения (в дальнейшем работаем измененным датасетом):"
      ],
      "metadata": {
        "id": "wFbuTnkbjPeq"
      }
    },
    {
      "cell_type": "code",
      "source": [
        "diamonds.drop(cols, axis=1, inplace=True)"
      ],
      "metadata": {
        "id": "qSZ5cmKWjutz"
      },
      "execution_count": null,
      "outputs": []
    },
    {
      "cell_type": "markdown",
      "source": [
        "(1 балл) Проделайте тоже самое для колонок, начинающихся с `culet_`:"
      ],
      "metadata": {
        "id": "JID3q4vr8-2h"
      }
    },
    {
      "cell_type": "code",
      "source": [
        "cols1 = diamonds.columns[diamonds.columns.str.startswith(\"culet_\")]\n",
        "print(len(cols1))\n",
        "print(diamonds[cols1].notna().sum())\n",
        "diamonds.drop(cols1, axis=1, inplace=True)"
      ],
      "metadata": {
        "id": "Wfsvzyad-T6P",
        "colab": {
          "base_uri": "https://localhost:8080/"
        },
        "outputId": "85c7d92d-ddd8-4fe7-f9f9-75edd7153859"
      },
      "execution_count": 15,
      "outputs": [
        {
          "output_type": "stream",
          "name": "stdout",
          "text": [
            "2\n",
            "culet_size         133963\n",
            "culet_condition     15319\n",
            "dtype: int64\n"
          ]
        }
      ]
    },
    {
      "cell_type": "markdown",
      "source": [
        "(1 балл) Посчитайте сколько бы стоил (в тысячах долларов) сейф, в котором хранились бы все бриллианты из датасета:"
      ],
      "metadata": {
        "id": "7_qYv5Xm-UCz"
      }
    },
    {
      "cell_type": "code",
      "source": [
        "diamonds[\"total_sales_price\"].sum() / 1000"
      ],
      "metadata": {
        "id": "g2wVyz5U-cx7",
        "colab": {
          "base_uri": "https://localhost:8080/"
        },
        "outputId": "3d007a7d-ec70-462a-a501-4f0ddd231aba"
      },
      "execution_count": 16,
      "outputs": [
        {
          "output_type": "execute_result",
          "data": {
            "text/plain": [
              "1517721.991"
            ]
          },
          "metadata": {},
          "execution_count": 16
        }
      ]
    },
    {
      "cell_type": "markdown",
      "source": [
        "Немного необоснованных манипуляций."
      ],
      "metadata": {
        "id": "GVwspHrUkRFv"
      }
    },
    {
      "cell_type": "markdown",
      "source": [
        "(1 балл) Выберите из датасета строки с четными индексами и выведете значения (не меняя нумерацию индексов):"
      ],
      "metadata": {
        "id": "0j5Yr0mFxxfu"
      }
    },
    {
      "cell_type": "code",
      "source": [
        "diamonds.iloc[::2]"
      ],
      "metadata": {
        "id": "dW2GOROfx6yd",
        "colab": {
          "base_uri": "https://localhost:8080/",
          "height": 609
        },
        "outputId": "291907b9-7639-4bad-b67c-0f79a11dc626"
      },
      "execution_count": 20,
      "outputs": [
        {
          "output_type": "execute_result",
          "data": {
            "text/plain": [
              "        Unnamed: 0    cut color clarity  carat_weight cut_quality  lab  \\\n",
              "0                0  Round     E    VVS2          0.09   Excellent  IGI   \n",
              "2                2  Round     E    VVS2          0.09   Excellent  IGI   \n",
              "4                4  Round     E    VVS2          0.09   Very Good  IGI   \n",
              "6                6  Round     E    VVS2          0.09   Very Good  IGI   \n",
              "8                8  Round     E    VVS2          0.09   Very Good  IGI   \n",
              "...            ...    ...   ...     ...           ...         ...  ...   \n",
              "219694      219695  Round     D      IF         12.52   Excellent  HRD   \n",
              "219696      219697   Oval     H     VS2         18.88         NaN  GIA   \n",
              "219698      219699  Round     E     VS1         10.65   Excellent  GIA   \n",
              "219700      219701  Round     E     VS1         18.07   Excellent  GIA   \n",
              "219702      219703   Pear   NaN    VVS2         10.03         NaN  GIA   \n",
              "\n",
              "         symmetry     polish eye_clean  depth_percent  table_percent  \\\n",
              "0       Very Good  Very Good       NaN           62.7           59.0   \n",
              "2       Very Good  Very Good       NaN           61.1           59.0   \n",
              "4       Very Good  Excellent       NaN           64.9           58.5   \n",
              "6       Very Good  Very Good       NaN           64.0           57.0   \n",
              "8       Very Good  Very Good       NaN           63.5           59.5   \n",
              "...           ...        ...       ...            ...            ...   \n",
              "219694  Excellent  Excellent       NaN           62.1           58.0   \n",
              "219696  Excellent  Excellent       NaN           57.1           55.0   \n",
              "219698  Excellent  Excellent       NaN           61.3           58.0   \n",
              "219700  Excellent  Excellent       NaN           60.2           59.0   \n",
              "219702  Very Good  Excellent       NaN           66.7           65.0   \n",
              "\n",
              "        meas_length  meas_width  meas_depth girdle_min girdle_max  \\\n",
              "0              2.85        2.87        1.79          M          M   \n",
              "2              2.88        2.90        1.77         TN          M   \n",
              "4              2.79        2.83        1.82        STK        STK   \n",
              "6              2.85        2.88        1.84        STK        STK   \n",
              "8              2.89        2.92        1.85        STK         TK   \n",
              "...             ...         ...         ...        ...        ...   \n",
              "219694        14.84       14.91        9.24        NaN        NaN   \n",
              "219696        21.34       15.23        8.69         TN        STK   \n",
              "219698        14.06       14.18        8.66          M        STK   \n",
              "219700        17.06       17.10       10.20         TN          M   \n",
              "219702        15.61       11.09        7.39        NaN        NaN   \n",
              "\n",
              "        total_sales_price  \n",
              "0                     200  \n",
              "2                     200  \n",
              "4                     200  \n",
              "6                     200  \n",
              "8                     200  \n",
              "...                   ...  \n",
              "219694            1121792  \n",
              "219696            1132347  \n",
              "219698            1210692  \n",
              "219700            1315496  \n",
              "219702            1449881  \n",
              "\n",
              "[109852 rows x 18 columns]"
            ],
            "text/html": [
              "\n",
              "  <div id=\"df-792bc41b-b555-4a5f-8013-33438104e465\">\n",
              "    <div class=\"colab-df-container\">\n",
              "      <div>\n",
              "<style scoped>\n",
              "    .dataframe tbody tr th:only-of-type {\n",
              "        vertical-align: middle;\n",
              "    }\n",
              "\n",
              "    .dataframe tbody tr th {\n",
              "        vertical-align: top;\n",
              "    }\n",
              "\n",
              "    .dataframe thead th {\n",
              "        text-align: right;\n",
              "    }\n",
              "</style>\n",
              "<table border=\"1\" class=\"dataframe\">\n",
              "  <thead>\n",
              "    <tr style=\"text-align: right;\">\n",
              "      <th></th>\n",
              "      <th>Unnamed: 0</th>\n",
              "      <th>cut</th>\n",
              "      <th>color</th>\n",
              "      <th>clarity</th>\n",
              "      <th>carat_weight</th>\n",
              "      <th>cut_quality</th>\n",
              "      <th>lab</th>\n",
              "      <th>symmetry</th>\n",
              "      <th>polish</th>\n",
              "      <th>eye_clean</th>\n",
              "      <th>depth_percent</th>\n",
              "      <th>table_percent</th>\n",
              "      <th>meas_length</th>\n",
              "      <th>meas_width</th>\n",
              "      <th>meas_depth</th>\n",
              "      <th>girdle_min</th>\n",
              "      <th>girdle_max</th>\n",
              "      <th>total_sales_price</th>\n",
              "    </tr>\n",
              "  </thead>\n",
              "  <tbody>\n",
              "    <tr>\n",
              "      <th>0</th>\n",
              "      <td>0</td>\n",
              "      <td>Round</td>\n",
              "      <td>E</td>\n",
              "      <td>VVS2</td>\n",
              "      <td>0.09</td>\n",
              "      <td>Excellent</td>\n",
              "      <td>IGI</td>\n",
              "      <td>Very Good</td>\n",
              "      <td>Very Good</td>\n",
              "      <td>NaN</td>\n",
              "      <td>62.7</td>\n",
              "      <td>59.0</td>\n",
              "      <td>2.85</td>\n",
              "      <td>2.87</td>\n",
              "      <td>1.79</td>\n",
              "      <td>M</td>\n",
              "      <td>M</td>\n",
              "      <td>200</td>\n",
              "    </tr>\n",
              "    <tr>\n",
              "      <th>2</th>\n",
              "      <td>2</td>\n",
              "      <td>Round</td>\n",
              "      <td>E</td>\n",
              "      <td>VVS2</td>\n",
              "      <td>0.09</td>\n",
              "      <td>Excellent</td>\n",
              "      <td>IGI</td>\n",
              "      <td>Very Good</td>\n",
              "      <td>Very Good</td>\n",
              "      <td>NaN</td>\n",
              "      <td>61.1</td>\n",
              "      <td>59.0</td>\n",
              "      <td>2.88</td>\n",
              "      <td>2.90</td>\n",
              "      <td>1.77</td>\n",
              "      <td>TN</td>\n",
              "      <td>M</td>\n",
              "      <td>200</td>\n",
              "    </tr>\n",
              "    <tr>\n",
              "      <th>4</th>\n",
              "      <td>4</td>\n",
              "      <td>Round</td>\n",
              "      <td>E</td>\n",
              "      <td>VVS2</td>\n",
              "      <td>0.09</td>\n",
              "      <td>Very Good</td>\n",
              "      <td>IGI</td>\n",
              "      <td>Very Good</td>\n",
              "      <td>Excellent</td>\n",
              "      <td>NaN</td>\n",
              "      <td>64.9</td>\n",
              "      <td>58.5</td>\n",
              "      <td>2.79</td>\n",
              "      <td>2.83</td>\n",
              "      <td>1.82</td>\n",
              "      <td>STK</td>\n",
              "      <td>STK</td>\n",
              "      <td>200</td>\n",
              "    </tr>\n",
              "    <tr>\n",
              "      <th>6</th>\n",
              "      <td>6</td>\n",
              "      <td>Round</td>\n",
              "      <td>E</td>\n",
              "      <td>VVS2</td>\n",
              "      <td>0.09</td>\n",
              "      <td>Very Good</td>\n",
              "      <td>IGI</td>\n",
              "      <td>Very Good</td>\n",
              "      <td>Very Good</td>\n",
              "      <td>NaN</td>\n",
              "      <td>64.0</td>\n",
              "      <td>57.0</td>\n",
              "      <td>2.85</td>\n",
              "      <td>2.88</td>\n",
              "      <td>1.84</td>\n",
              "      <td>STK</td>\n",
              "      <td>STK</td>\n",
              "      <td>200</td>\n",
              "    </tr>\n",
              "    <tr>\n",
              "      <th>8</th>\n",
              "      <td>8</td>\n",
              "      <td>Round</td>\n",
              "      <td>E</td>\n",
              "      <td>VVS2</td>\n",
              "      <td>0.09</td>\n",
              "      <td>Very Good</td>\n",
              "      <td>IGI</td>\n",
              "      <td>Very Good</td>\n",
              "      <td>Very Good</td>\n",
              "      <td>NaN</td>\n",
              "      <td>63.5</td>\n",
              "      <td>59.5</td>\n",
              "      <td>2.89</td>\n",
              "      <td>2.92</td>\n",
              "      <td>1.85</td>\n",
              "      <td>STK</td>\n",
              "      <td>TK</td>\n",
              "      <td>200</td>\n",
              "    </tr>\n",
              "    <tr>\n",
              "      <th>...</th>\n",
              "      <td>...</td>\n",
              "      <td>...</td>\n",
              "      <td>...</td>\n",
              "      <td>...</td>\n",
              "      <td>...</td>\n",
              "      <td>...</td>\n",
              "      <td>...</td>\n",
              "      <td>...</td>\n",
              "      <td>...</td>\n",
              "      <td>...</td>\n",
              "      <td>...</td>\n",
              "      <td>...</td>\n",
              "      <td>...</td>\n",
              "      <td>...</td>\n",
              "      <td>...</td>\n",
              "      <td>...</td>\n",
              "      <td>...</td>\n",
              "      <td>...</td>\n",
              "    </tr>\n",
              "    <tr>\n",
              "      <th>219694</th>\n",
              "      <td>219695</td>\n",
              "      <td>Round</td>\n",
              "      <td>D</td>\n",
              "      <td>IF</td>\n",
              "      <td>12.52</td>\n",
              "      <td>Excellent</td>\n",
              "      <td>HRD</td>\n",
              "      <td>Excellent</td>\n",
              "      <td>Excellent</td>\n",
              "      <td>NaN</td>\n",
              "      <td>62.1</td>\n",
              "      <td>58.0</td>\n",
              "      <td>14.84</td>\n",
              "      <td>14.91</td>\n",
              "      <td>9.24</td>\n",
              "      <td>NaN</td>\n",
              "      <td>NaN</td>\n",
              "      <td>1121792</td>\n",
              "    </tr>\n",
              "    <tr>\n",
              "      <th>219696</th>\n",
              "      <td>219697</td>\n",
              "      <td>Oval</td>\n",
              "      <td>H</td>\n",
              "      <td>VS2</td>\n",
              "      <td>18.88</td>\n",
              "      <td>NaN</td>\n",
              "      <td>GIA</td>\n",
              "      <td>Excellent</td>\n",
              "      <td>Excellent</td>\n",
              "      <td>NaN</td>\n",
              "      <td>57.1</td>\n",
              "      <td>55.0</td>\n",
              "      <td>21.34</td>\n",
              "      <td>15.23</td>\n",
              "      <td>8.69</td>\n",
              "      <td>TN</td>\n",
              "      <td>STK</td>\n",
              "      <td>1132347</td>\n",
              "    </tr>\n",
              "    <tr>\n",
              "      <th>219698</th>\n",
              "      <td>219699</td>\n",
              "      <td>Round</td>\n",
              "      <td>E</td>\n",
              "      <td>VS1</td>\n",
              "      <td>10.65</td>\n",
              "      <td>Excellent</td>\n",
              "      <td>GIA</td>\n",
              "      <td>Excellent</td>\n",
              "      <td>Excellent</td>\n",
              "      <td>NaN</td>\n",
              "      <td>61.3</td>\n",
              "      <td>58.0</td>\n",
              "      <td>14.06</td>\n",
              "      <td>14.18</td>\n",
              "      <td>8.66</td>\n",
              "      <td>M</td>\n",
              "      <td>STK</td>\n",
              "      <td>1210692</td>\n",
              "    </tr>\n",
              "    <tr>\n",
              "      <th>219700</th>\n",
              "      <td>219701</td>\n",
              "      <td>Round</td>\n",
              "      <td>E</td>\n",
              "      <td>VS1</td>\n",
              "      <td>18.07</td>\n",
              "      <td>Excellent</td>\n",
              "      <td>GIA</td>\n",
              "      <td>Excellent</td>\n",
              "      <td>Excellent</td>\n",
              "      <td>NaN</td>\n",
              "      <td>60.2</td>\n",
              "      <td>59.0</td>\n",
              "      <td>17.06</td>\n",
              "      <td>17.10</td>\n",
              "      <td>10.20</td>\n",
              "      <td>TN</td>\n",
              "      <td>M</td>\n",
              "      <td>1315496</td>\n",
              "    </tr>\n",
              "    <tr>\n",
              "      <th>219702</th>\n",
              "      <td>219703</td>\n",
              "      <td>Pear</td>\n",
              "      <td>NaN</td>\n",
              "      <td>VVS2</td>\n",
              "      <td>10.03</td>\n",
              "      <td>NaN</td>\n",
              "      <td>GIA</td>\n",
              "      <td>Very Good</td>\n",
              "      <td>Excellent</td>\n",
              "      <td>NaN</td>\n",
              "      <td>66.7</td>\n",
              "      <td>65.0</td>\n",
              "      <td>15.61</td>\n",
              "      <td>11.09</td>\n",
              "      <td>7.39</td>\n",
              "      <td>NaN</td>\n",
              "      <td>NaN</td>\n",
              "      <td>1449881</td>\n",
              "    </tr>\n",
              "  </tbody>\n",
              "</table>\n",
              "<p>109852 rows × 18 columns</p>\n",
              "</div>\n",
              "      <button class=\"colab-df-convert\" onclick=\"convertToInteractive('df-792bc41b-b555-4a5f-8013-33438104e465')\"\n",
              "              title=\"Convert this dataframe to an interactive table.\"\n",
              "              style=\"display:none;\">\n",
              "        \n",
              "  <svg xmlns=\"http://www.w3.org/2000/svg\" height=\"24px\"viewBox=\"0 0 24 24\"\n",
              "       width=\"24px\">\n",
              "    <path d=\"M0 0h24v24H0V0z\" fill=\"none\"/>\n",
              "    <path d=\"M18.56 5.44l.94 2.06.94-2.06 2.06-.94-2.06-.94-.94-2.06-.94 2.06-2.06.94zm-11 1L8.5 8.5l.94-2.06 2.06-.94-2.06-.94L8.5 2.5l-.94 2.06-2.06.94zm10 10l.94 2.06.94-2.06 2.06-.94-2.06-.94-.94-2.06-.94 2.06-2.06.94z\"/><path d=\"M17.41 7.96l-1.37-1.37c-.4-.4-.92-.59-1.43-.59-.52 0-1.04.2-1.43.59L10.3 9.45l-7.72 7.72c-.78.78-.78 2.05 0 2.83L4 21.41c.39.39.9.59 1.41.59.51 0 1.02-.2 1.41-.59l7.78-7.78 2.81-2.81c.8-.78.8-2.07 0-2.86zM5.41 20L4 18.59l7.72-7.72 1.47 1.35L5.41 20z\"/>\n",
              "  </svg>\n",
              "      </button>\n",
              "      \n",
              "  <style>\n",
              "    .colab-df-container {\n",
              "      display:flex;\n",
              "      flex-wrap:wrap;\n",
              "      gap: 12px;\n",
              "    }\n",
              "\n",
              "    .colab-df-convert {\n",
              "      background-color: #E8F0FE;\n",
              "      border: none;\n",
              "      border-radius: 50%;\n",
              "      cursor: pointer;\n",
              "      display: none;\n",
              "      fill: #1967D2;\n",
              "      height: 32px;\n",
              "      padding: 0 0 0 0;\n",
              "      width: 32px;\n",
              "    }\n",
              "\n",
              "    .colab-df-convert:hover {\n",
              "      background-color: #E2EBFA;\n",
              "      box-shadow: 0px 1px 2px rgba(60, 64, 67, 0.3), 0px 1px 3px 1px rgba(60, 64, 67, 0.15);\n",
              "      fill: #174EA6;\n",
              "    }\n",
              "\n",
              "    [theme=dark] .colab-df-convert {\n",
              "      background-color: #3B4455;\n",
              "      fill: #D2E3FC;\n",
              "    }\n",
              "\n",
              "    [theme=dark] .colab-df-convert:hover {\n",
              "      background-color: #434B5C;\n",
              "      box-shadow: 0px 1px 3px 1px rgba(0, 0, 0, 0.15);\n",
              "      filter: drop-shadow(0px 1px 2px rgba(0, 0, 0, 0.3));\n",
              "      fill: #FFFFFF;\n",
              "    }\n",
              "  </style>\n",
              "\n",
              "      <script>\n",
              "        const buttonEl =\n",
              "          document.querySelector('#df-792bc41b-b555-4a5f-8013-33438104e465 button.colab-df-convert');\n",
              "        buttonEl.style.display =\n",
              "          google.colab.kernel.accessAllowed ? 'block' : 'none';\n",
              "\n",
              "        async function convertToInteractive(key) {\n",
              "          const element = document.querySelector('#df-792bc41b-b555-4a5f-8013-33438104e465');\n",
              "          const dataTable =\n",
              "            await google.colab.kernel.invokeFunction('convertToInteractive',\n",
              "                                                     [key], {});\n",
              "          if (!dataTable) return;\n",
              "\n",
              "          const docLinkHtml = 'Like what you see? Visit the ' +\n",
              "            '<a target=\"_blank\" href=https://colab.research.google.com/notebooks/data_table.ipynb>data table notebook</a>'\n",
              "            + ' to learn more about interactive tables.';\n",
              "          element.innerHTML = '';\n",
              "          dataTable['output_type'] = 'display_data';\n",
              "          await google.colab.output.renderOutput(dataTable, element);\n",
              "          const docLink = document.createElement('div');\n",
              "          docLink.innerHTML = docLinkHtml;\n",
              "          element.appendChild(docLink);\n",
              "        }\n",
              "      </script>\n",
              "    </div>\n",
              "  </div>\n",
              "  "
            ]
          },
          "metadata": {},
          "execution_count": 20
        }
      ]
    },
    {
      "cell_type": "markdown",
      "source": [
        "(0.5 балла) А теперь с индексами, кратными 6:"
      ],
      "metadata": {
        "id": "mNXqS4oox7TF"
      }
    },
    {
      "cell_type": "code",
      "source": [
        "diamonds.iloc[::6]"
      ],
      "metadata": {
        "id": "hy8LyzXix_SB",
        "colab": {
          "base_uri": "https://localhost:8080/",
          "height": 592
        },
        "outputId": "8140d160-2102-4701-850e-054e28b56e92"
      },
      "execution_count": 21,
      "outputs": [
        {
          "output_type": "execute_result",
          "data": {
            "text/plain": [
              "        Unnamed: 0      cut color clarity  carat_weight cut_quality  lab  \\\n",
              "0                0    Round     E    VVS2          0.09   Excellent  IGI   \n",
              "6                6    Round     E    VVS2          0.09   Very Good  IGI   \n",
              "12              12    Round     E    VVS2          0.09   Very Good  IGI   \n",
              "18              18    Round     E    VVS2          0.09   Excellent  IGI   \n",
              "24              24    Round     L      I1          0.34   Excellent  IGI   \n",
              "...            ...      ...   ...     ...           ...         ...  ...   \n",
              "219678      219679    Round     G     VS1         10.23   Excellent  GIA   \n",
              "219684      219685  Radiant   NaN      I1          0.89         NaN  GIA   \n",
              "219690      219691    Round     D    VVS2         10.10   Excellent  GIA   \n",
              "219696      219697     Oval     H     VS2         18.88         NaN  GIA   \n",
              "219702      219703     Pear   NaN    VVS2         10.03         NaN  GIA   \n",
              "\n",
              "         symmetry     polish eye_clean  depth_percent  table_percent  \\\n",
              "0       Very Good  Very Good       NaN           62.7           59.0   \n",
              "6       Very Good  Very Good       NaN           64.0           57.0   \n",
              "12      Very Good  Very Good       NaN           61.8           58.5   \n",
              "18      Very Good  Very Good       NaN           61.0           60.0   \n",
              "24      Excellent  Excellent       NaN            0.0            0.0   \n",
              "...           ...        ...       ...            ...            ...   \n",
              "219678  Excellent  Excellent       NaN           62.7           55.0   \n",
              "219684       Good       Good       NaN           63.8           57.0   \n",
              "219690  Excellent  Excellent       NaN           59.4           59.0   \n",
              "219696  Excellent  Excellent       NaN           57.1           55.0   \n",
              "219702  Very Good  Excellent       NaN           66.7           65.0   \n",
              "\n",
              "        meas_length  meas_width  meas_depth girdle_min girdle_max  \\\n",
              "0              2.85        2.87        1.79          M          M   \n",
              "6              2.85        2.88        1.84        STK        STK   \n",
              "12             2.85        2.89        1.77        STK         TK   \n",
              "18             2.91        2.92        1.78          M          M   \n",
              "24             0.00        0.00        0.00        NaN        NaN   \n",
              "...             ...         ...         ...        ...        ...   \n",
              "219678        13.82       13.92        8.69         TN          M   \n",
              "219684         6.44        4.96        3.16         TK        VTK   \n",
              "219690        14.07       14.15        8.39          M        STK   \n",
              "219696        21.34       15.23        8.69         TN        STK   \n",
              "219702        15.61       11.09        7.39        NaN        NaN   \n",
              "\n",
              "        total_sales_price  \n",
              "0                     200  \n",
              "6                     200  \n",
              "12                    200  \n",
              "18                    200  \n",
              "24                    204  \n",
              "...                   ...  \n",
              "219678             859320  \n",
              "219684             982560  \n",
              "219690            1040739  \n",
              "219696            1132347  \n",
              "219702            1449881  \n",
              "\n",
              "[36618 rows x 18 columns]"
            ],
            "text/html": [
              "\n",
              "  <div id=\"df-cf3e4c42-51a5-4b5e-973b-381ffdb63332\">\n",
              "    <div class=\"colab-df-container\">\n",
              "      <div>\n",
              "<style scoped>\n",
              "    .dataframe tbody tr th:only-of-type {\n",
              "        vertical-align: middle;\n",
              "    }\n",
              "\n",
              "    .dataframe tbody tr th {\n",
              "        vertical-align: top;\n",
              "    }\n",
              "\n",
              "    .dataframe thead th {\n",
              "        text-align: right;\n",
              "    }\n",
              "</style>\n",
              "<table border=\"1\" class=\"dataframe\">\n",
              "  <thead>\n",
              "    <tr style=\"text-align: right;\">\n",
              "      <th></th>\n",
              "      <th>Unnamed: 0</th>\n",
              "      <th>cut</th>\n",
              "      <th>color</th>\n",
              "      <th>clarity</th>\n",
              "      <th>carat_weight</th>\n",
              "      <th>cut_quality</th>\n",
              "      <th>lab</th>\n",
              "      <th>symmetry</th>\n",
              "      <th>polish</th>\n",
              "      <th>eye_clean</th>\n",
              "      <th>depth_percent</th>\n",
              "      <th>table_percent</th>\n",
              "      <th>meas_length</th>\n",
              "      <th>meas_width</th>\n",
              "      <th>meas_depth</th>\n",
              "      <th>girdle_min</th>\n",
              "      <th>girdle_max</th>\n",
              "      <th>total_sales_price</th>\n",
              "    </tr>\n",
              "  </thead>\n",
              "  <tbody>\n",
              "    <tr>\n",
              "      <th>0</th>\n",
              "      <td>0</td>\n",
              "      <td>Round</td>\n",
              "      <td>E</td>\n",
              "      <td>VVS2</td>\n",
              "      <td>0.09</td>\n",
              "      <td>Excellent</td>\n",
              "      <td>IGI</td>\n",
              "      <td>Very Good</td>\n",
              "      <td>Very Good</td>\n",
              "      <td>NaN</td>\n",
              "      <td>62.7</td>\n",
              "      <td>59.0</td>\n",
              "      <td>2.85</td>\n",
              "      <td>2.87</td>\n",
              "      <td>1.79</td>\n",
              "      <td>M</td>\n",
              "      <td>M</td>\n",
              "      <td>200</td>\n",
              "    </tr>\n",
              "    <tr>\n",
              "      <th>6</th>\n",
              "      <td>6</td>\n",
              "      <td>Round</td>\n",
              "      <td>E</td>\n",
              "      <td>VVS2</td>\n",
              "      <td>0.09</td>\n",
              "      <td>Very Good</td>\n",
              "      <td>IGI</td>\n",
              "      <td>Very Good</td>\n",
              "      <td>Very Good</td>\n",
              "      <td>NaN</td>\n",
              "      <td>64.0</td>\n",
              "      <td>57.0</td>\n",
              "      <td>2.85</td>\n",
              "      <td>2.88</td>\n",
              "      <td>1.84</td>\n",
              "      <td>STK</td>\n",
              "      <td>STK</td>\n",
              "      <td>200</td>\n",
              "    </tr>\n",
              "    <tr>\n",
              "      <th>12</th>\n",
              "      <td>12</td>\n",
              "      <td>Round</td>\n",
              "      <td>E</td>\n",
              "      <td>VVS2</td>\n",
              "      <td>0.09</td>\n",
              "      <td>Very Good</td>\n",
              "      <td>IGI</td>\n",
              "      <td>Very Good</td>\n",
              "      <td>Very Good</td>\n",
              "      <td>NaN</td>\n",
              "      <td>61.8</td>\n",
              "      <td>58.5</td>\n",
              "      <td>2.85</td>\n",
              "      <td>2.89</td>\n",
              "      <td>1.77</td>\n",
              "      <td>STK</td>\n",
              "      <td>TK</td>\n",
              "      <td>200</td>\n",
              "    </tr>\n",
              "    <tr>\n",
              "      <th>18</th>\n",
              "      <td>18</td>\n",
              "      <td>Round</td>\n",
              "      <td>E</td>\n",
              "      <td>VVS2</td>\n",
              "      <td>0.09</td>\n",
              "      <td>Excellent</td>\n",
              "      <td>IGI</td>\n",
              "      <td>Very Good</td>\n",
              "      <td>Very Good</td>\n",
              "      <td>NaN</td>\n",
              "      <td>61.0</td>\n",
              "      <td>60.0</td>\n",
              "      <td>2.91</td>\n",
              "      <td>2.92</td>\n",
              "      <td>1.78</td>\n",
              "      <td>M</td>\n",
              "      <td>M</td>\n",
              "      <td>200</td>\n",
              "    </tr>\n",
              "    <tr>\n",
              "      <th>24</th>\n",
              "      <td>24</td>\n",
              "      <td>Round</td>\n",
              "      <td>L</td>\n",
              "      <td>I1</td>\n",
              "      <td>0.34</td>\n",
              "      <td>Excellent</td>\n",
              "      <td>IGI</td>\n",
              "      <td>Excellent</td>\n",
              "      <td>Excellent</td>\n",
              "      <td>NaN</td>\n",
              "      <td>0.0</td>\n",
              "      <td>0.0</td>\n",
              "      <td>0.00</td>\n",
              "      <td>0.00</td>\n",
              "      <td>0.00</td>\n",
              "      <td>NaN</td>\n",
              "      <td>NaN</td>\n",
              "      <td>204</td>\n",
              "    </tr>\n",
              "    <tr>\n",
              "      <th>...</th>\n",
              "      <td>...</td>\n",
              "      <td>...</td>\n",
              "      <td>...</td>\n",
              "      <td>...</td>\n",
              "      <td>...</td>\n",
              "      <td>...</td>\n",
              "      <td>...</td>\n",
              "      <td>...</td>\n",
              "      <td>...</td>\n",
              "      <td>...</td>\n",
              "      <td>...</td>\n",
              "      <td>...</td>\n",
              "      <td>...</td>\n",
              "      <td>...</td>\n",
              "      <td>...</td>\n",
              "      <td>...</td>\n",
              "      <td>...</td>\n",
              "      <td>...</td>\n",
              "    </tr>\n",
              "    <tr>\n",
              "      <th>219678</th>\n",
              "      <td>219679</td>\n",
              "      <td>Round</td>\n",
              "      <td>G</td>\n",
              "      <td>VS1</td>\n",
              "      <td>10.23</td>\n",
              "      <td>Excellent</td>\n",
              "      <td>GIA</td>\n",
              "      <td>Excellent</td>\n",
              "      <td>Excellent</td>\n",
              "      <td>NaN</td>\n",
              "      <td>62.7</td>\n",
              "      <td>55.0</td>\n",
              "      <td>13.82</td>\n",
              "      <td>13.92</td>\n",
              "      <td>8.69</td>\n",
              "      <td>TN</td>\n",
              "      <td>M</td>\n",
              "      <td>859320</td>\n",
              "    </tr>\n",
              "    <tr>\n",
              "      <th>219684</th>\n",
              "      <td>219685</td>\n",
              "      <td>Radiant</td>\n",
              "      <td>NaN</td>\n",
              "      <td>I1</td>\n",
              "      <td>0.89</td>\n",
              "      <td>NaN</td>\n",
              "      <td>GIA</td>\n",
              "      <td>Good</td>\n",
              "      <td>Good</td>\n",
              "      <td>NaN</td>\n",
              "      <td>63.8</td>\n",
              "      <td>57.0</td>\n",
              "      <td>6.44</td>\n",
              "      <td>4.96</td>\n",
              "      <td>3.16</td>\n",
              "      <td>TK</td>\n",
              "      <td>VTK</td>\n",
              "      <td>982560</td>\n",
              "    </tr>\n",
              "    <tr>\n",
              "      <th>219690</th>\n",
              "      <td>219691</td>\n",
              "      <td>Round</td>\n",
              "      <td>D</td>\n",
              "      <td>VVS2</td>\n",
              "      <td>10.10</td>\n",
              "      <td>Excellent</td>\n",
              "      <td>GIA</td>\n",
              "      <td>Excellent</td>\n",
              "      <td>Excellent</td>\n",
              "      <td>NaN</td>\n",
              "      <td>59.4</td>\n",
              "      <td>59.0</td>\n",
              "      <td>14.07</td>\n",
              "      <td>14.15</td>\n",
              "      <td>8.39</td>\n",
              "      <td>M</td>\n",
              "      <td>STK</td>\n",
              "      <td>1040739</td>\n",
              "    </tr>\n",
              "    <tr>\n",
              "      <th>219696</th>\n",
              "      <td>219697</td>\n",
              "      <td>Oval</td>\n",
              "      <td>H</td>\n",
              "      <td>VS2</td>\n",
              "      <td>18.88</td>\n",
              "      <td>NaN</td>\n",
              "      <td>GIA</td>\n",
              "      <td>Excellent</td>\n",
              "      <td>Excellent</td>\n",
              "      <td>NaN</td>\n",
              "      <td>57.1</td>\n",
              "      <td>55.0</td>\n",
              "      <td>21.34</td>\n",
              "      <td>15.23</td>\n",
              "      <td>8.69</td>\n",
              "      <td>TN</td>\n",
              "      <td>STK</td>\n",
              "      <td>1132347</td>\n",
              "    </tr>\n",
              "    <tr>\n",
              "      <th>219702</th>\n",
              "      <td>219703</td>\n",
              "      <td>Pear</td>\n",
              "      <td>NaN</td>\n",
              "      <td>VVS2</td>\n",
              "      <td>10.03</td>\n",
              "      <td>NaN</td>\n",
              "      <td>GIA</td>\n",
              "      <td>Very Good</td>\n",
              "      <td>Excellent</td>\n",
              "      <td>NaN</td>\n",
              "      <td>66.7</td>\n",
              "      <td>65.0</td>\n",
              "      <td>15.61</td>\n",
              "      <td>11.09</td>\n",
              "      <td>7.39</td>\n",
              "      <td>NaN</td>\n",
              "      <td>NaN</td>\n",
              "      <td>1449881</td>\n",
              "    </tr>\n",
              "  </tbody>\n",
              "</table>\n",
              "<p>36618 rows × 18 columns</p>\n",
              "</div>\n",
              "      <button class=\"colab-df-convert\" onclick=\"convertToInteractive('df-cf3e4c42-51a5-4b5e-973b-381ffdb63332')\"\n",
              "              title=\"Convert this dataframe to an interactive table.\"\n",
              "              style=\"display:none;\">\n",
              "        \n",
              "  <svg xmlns=\"http://www.w3.org/2000/svg\" height=\"24px\"viewBox=\"0 0 24 24\"\n",
              "       width=\"24px\">\n",
              "    <path d=\"M0 0h24v24H0V0z\" fill=\"none\"/>\n",
              "    <path d=\"M18.56 5.44l.94 2.06.94-2.06 2.06-.94-2.06-.94-.94-2.06-.94 2.06-2.06.94zm-11 1L8.5 8.5l.94-2.06 2.06-.94-2.06-.94L8.5 2.5l-.94 2.06-2.06.94zm10 10l.94 2.06.94-2.06 2.06-.94-2.06-.94-.94-2.06-.94 2.06-2.06.94z\"/><path d=\"M17.41 7.96l-1.37-1.37c-.4-.4-.92-.59-1.43-.59-.52 0-1.04.2-1.43.59L10.3 9.45l-7.72 7.72c-.78.78-.78 2.05 0 2.83L4 21.41c.39.39.9.59 1.41.59.51 0 1.02-.2 1.41-.59l7.78-7.78 2.81-2.81c.8-.78.8-2.07 0-2.86zM5.41 20L4 18.59l7.72-7.72 1.47 1.35L5.41 20z\"/>\n",
              "  </svg>\n",
              "      </button>\n",
              "      \n",
              "  <style>\n",
              "    .colab-df-container {\n",
              "      display:flex;\n",
              "      flex-wrap:wrap;\n",
              "      gap: 12px;\n",
              "    }\n",
              "\n",
              "    .colab-df-convert {\n",
              "      background-color: #E8F0FE;\n",
              "      border: none;\n",
              "      border-radius: 50%;\n",
              "      cursor: pointer;\n",
              "      display: none;\n",
              "      fill: #1967D2;\n",
              "      height: 32px;\n",
              "      padding: 0 0 0 0;\n",
              "      width: 32px;\n",
              "    }\n",
              "\n",
              "    .colab-df-convert:hover {\n",
              "      background-color: #E2EBFA;\n",
              "      box-shadow: 0px 1px 2px rgba(60, 64, 67, 0.3), 0px 1px 3px 1px rgba(60, 64, 67, 0.15);\n",
              "      fill: #174EA6;\n",
              "    }\n",
              "\n",
              "    [theme=dark] .colab-df-convert {\n",
              "      background-color: #3B4455;\n",
              "      fill: #D2E3FC;\n",
              "    }\n",
              "\n",
              "    [theme=dark] .colab-df-convert:hover {\n",
              "      background-color: #434B5C;\n",
              "      box-shadow: 0px 1px 3px 1px rgba(0, 0, 0, 0.15);\n",
              "      filter: drop-shadow(0px 1px 2px rgba(0, 0, 0, 0.3));\n",
              "      fill: #FFFFFF;\n",
              "    }\n",
              "  </style>\n",
              "\n",
              "      <script>\n",
              "        const buttonEl =\n",
              "          document.querySelector('#df-cf3e4c42-51a5-4b5e-973b-381ffdb63332 button.colab-df-convert');\n",
              "        buttonEl.style.display =\n",
              "          google.colab.kernel.accessAllowed ? 'block' : 'none';\n",
              "\n",
              "        async function convertToInteractive(key) {\n",
              "          const element = document.querySelector('#df-cf3e4c42-51a5-4b5e-973b-381ffdb63332');\n",
              "          const dataTable =\n",
              "            await google.colab.kernel.invokeFunction('convertToInteractive',\n",
              "                                                     [key], {});\n",
              "          if (!dataTable) return;\n",
              "\n",
              "          const docLinkHtml = 'Like what you see? Visit the ' +\n",
              "            '<a target=\"_blank\" href=https://colab.research.google.com/notebooks/data_table.ipynb>data table notebook</a>'\n",
              "            + ' to learn more about interactive tables.';\n",
              "          element.innerHTML = '';\n",
              "          dataTable['output_type'] = 'display_data';\n",
              "          await google.colab.output.renderOutput(dataTable, element);\n",
              "          const docLink = document.createElement('div');\n",
              "          docLink.innerHTML = docLinkHtml;\n",
              "          element.appendChild(docLink);\n",
              "        }\n",
              "      </script>\n",
              "    </div>\n",
              "  </div>\n",
              "  "
            ]
          },
          "metadata": {},
          "execution_count": 21
        }
      ]
    },
    {
      "cell_type": "markdown",
      "source": [
        "(1 балл) Выберете из датасета только категорильные признаки и выведете датасет:"
      ],
      "metadata": {
        "id": "u94LL979x_bV"
      }
    },
    {
      "cell_type": "code",
      "source": [
        "# your code here"
      ],
      "metadata": {
        "id": "2_LBNDWXyOOl"
      },
      "execution_count": null,
      "outputs": []
    },
    {
      "cell_type": "markdown",
      "source": [
        ">**Примечание**\n",
        ">\n",
        ">Данный датасет можно использовать для задания 3 (с использованием `sklearn`)"
      ],
      "metadata": {
        "id": "QANg8ziJkHGM"
      }
    },
    {
      "cell_type": "markdown",
      "source": [
        "(0.5 балла) Выберете столбец с данными о цене бриллиантов и домножите его на тот столбец, только транспонированный, и выведите полученную матрицу:"
      ],
      "metadata": {
        "id": "mV9jLhspyOgz"
      }
    },
    {
      "cell_type": "code",
      "source": [
        "matrix = diamonds[\"total_sales_price\"]\n",
        "np.matrix(matrix).dot(np.matrix(matrix).T)"
      ],
      "metadata": {
        "id": "LawjtnoIymFu",
        "colab": {
          "base_uri": "https://localhost:8080/"
        },
        "outputId": "9c470ccc-3e1d-43a2-dd5d-71606846aa92"
      },
      "execution_count": 23,
      "outputs": [
        {
          "output_type": "execute_result",
          "data": {
            "text/plain": [
              "matrix([[158540672665477]])"
            ]
          },
          "metadata": {},
          "execution_count": 23
        }
      ]
    },
    {
      "cell_type": "markdown",
      "source": [
        "### Построение графиков"
      ],
      "metadata": {
        "id": "Pz02uapbkbGk"
      }
    },
    {
      "cell_type": "markdown",
      "source": [
        "**Требования к графику:**\n",
        "\n",
        "1.   График должен быть подписан\n",
        "2.   Оси должны быть подписаны\n",
        "3.   Должна быть легенда графика\n",
        "4.   График должен быть информативным (желательно без сильных выбросов)\n",
        "\n",
        "**Все надписи на русском языке!**"
      ],
      "metadata": {
        "id": "_zhww-rd-c5c"
      }
    },
    {
      "cell_type": "markdown",
      "source": [
        ">**Примечание**\n",
        ">\n",
        ">График необходимо строить для очищенных данных - в них не должно быть пропусков по осям, по которым строите график. При этом **не перезатирайте** имеющийся датафрейм!"
      ],
      "metadata": {
        "id": "mfebCvk0k2mo"
      }
    },
    {
      "cell_type": "markdown",
      "source": [
        "(2 балла) Постройте график `цвет бриллианта - стоимость`:"
      ],
      "metadata": {
        "id": "4R9Rwxdq-l21"
      }
    },
    {
      "cell_type": "code",
      "source": [],
      "metadata": {
        "id": "Fo6I0j5o-vQh"
      },
      "execution_count": null,
      "outputs": []
    },
    {
      "cell_type": "markdown",
      "source": [
        "(2 балла) Постройте график `лабараторная оценка - кол-во бриллиантов`:"
      ],
      "metadata": {
        "id": "W_UgFji5-vWx"
      }
    },
    {
      "cell_type": "code",
      "source": [
        "plot_df = diamonds[\"lab\"].dropna().value_counts()\n",
        "plot_df.plot(kind=\"bar\")\n",
        "plt.title(\"лабораторная оценка - кол-во бриллиантов\")\n",
        "plt.xlabel(\"лабораторная оценка\")\n",
        "plt.ylabel(\"кол-во бриллиантов\")\n",
        "plt.ticklabel_format(style='plain', axis=\"y\")\n",
        "plt.show()"
      ],
      "metadata": {
        "id": "nyT8-TRb_c24",
        "colab": {
          "base_uri": "https://localhost:8080/",
          "height": 489
        },
        "outputId": "2bf69c48-d2d8-47b4-e7f0-17820d7c9a6b"
      },
      "execution_count": 45,
      "outputs": [
        {
          "output_type": "display_data",
          "data": {
            "text/plain": [
              "<Figure size 640x480 with 1 Axes>"
            ],
            "image/png": "[encoded data removed]"
          },
          "metadata": {}
        }
      ]
    },
    {
      "cell_type": "markdown",
      "source": [
        "(2 балла) Постройте график `вес бриллианта - стоимость`:"
      ],
      "metadata": {
        "id": "AgsMclnJ_c9H"
      }
    },
    {
      "cell_type": "code",
      "source": [
        "plot_df = diamonds[[\"carat_weight\", \"total_sales_price\"]].dropna()\n",
        "plot_df.plot(x=\"carat_weight\", y=\"total_sales_price\", kind=\"scatter\", marker=\".\")\n",
        "plt.title(\"вес бриллианта - стоимость\")\n",
        "plt.xlabel(\"вес бриллианта\")\n",
        "plt.ylabel(\"стоимость\")\n",
        "plt.ticklabel_format(style='plain', axis=\"y\")\n",
        "plt.show()"
      ],
      "metadata": {
        "id": "tn-x3pwmANQe",
        "colab": {
          "base_uri": "https://localhost:8080/",
          "height": 472
        },
        "outputId": "f677ce58-33c0-4c2e-cd4f-61cce1b468fd"
      },
      "execution_count": 46,
      "outputs": [
        {
          "output_type": "display_data",
          "data": {
            "text/plain": [
              "<Figure size 640x480 with 1 Axes>"
            ],
            "image/png": "[encoded data removed]"
          },
          "metadata": {}
        }
      ]
    },
    {
      "cell_type": "markdown",
      "source": [
        "(2 балла) Постройте график `система оценки GIA Cut - кол-во бриллиантов`:"
      ],
      "metadata": {
        "id": "0LVC1KfEAwuw"
      }
    },
    {
      "cell_type": "code",
      "source": [
        "plot_df = diamonds[\"cut_quality\"].dropna().value_counts()\n",
        "plot_df.plot(kind=\"bar\")\n",
        "plt.title(\"система оценки GIA Cut - кол-во бриллиантов\")\n",
        "plt.xlabel(\"система оценки GIA Cut\")\n",
        "plt.ylabel(\"кол-во бриллиантов\")\n",
        "plt.ticklabel_format(style='plain', axis=\"y\")\n",
        "plt.show()"
      ],
      "metadata": {
        "id": "IeuLooSIA232",
        "colab": {
          "base_uri": "https://localhost:8080/",
          "height": 530
        },
        "outputId": "2b10a82c-664f-4cdc-9db9-7426e07524fa"
      },
      "execution_count": 47,
      "outputs": [
        {
          "output_type": "display_data",
          "data": {
            "text/plain": [
              "<Figure size 640x480 with 1 Axes>"
            ],
            "image/png": "[encoded data removed]"
          },
          "metadata": {}
        }
      ]
    },
    {
      "cell_type": "markdown",
      "source": [
        "(2 балла) **Сделайте выводы по построенным графикам:**"
      ],
      "metadata": {
        "id": "DRaaNLidFDhL"
      }
    },
    {
      "cell_type": "markdown",
      "source": [
        ">*Подсказка для маленьких: Что вы можете сказать о графиках полученных выше для данного датасета?*"
      ],
      "metadata": {
        "id": "GSuWCfdGLtn0"
      }
    },
    {
      "cell_type": "markdown",
      "source": [
        "Ваши выводы здесь :)"
      ],
      "metadata": {
        "id": "iNdjR_X9lSt1"
      }
    },
    {
      "cell_type": "markdown",
      "source": [
        "## Задание 3. Модель - 30 баллов"
      ],
      "metadata": {
        "id": "JKYRkX_rBxxu"
      }
    },
    {
      "cell_type": "markdown",
      "source": [
        "В данном задании вам предстоит построить классифицирующую модель размер алмаза и его стоимости, а затем оценить полученную модель."
      ],
      "metadata": {
        "id": "EJO9SwpII_uJ"
      }
    },
    {
      "cell_type": "markdown",
      "source": [
        ">**Примечание**\n",
        ">\n",
        ">Данная модель не претендует на самый верный индикатор стоимости алмаза, ведь мы не учитываем ничего больше чем стоимость алмаза. Исключительно для образовательных целей :)"
      ],
      "metadata": {
        "id": "_8sA1qlRllrk"
      }
    },
    {
      "cell_type": "markdown",
      "source": [
        "Для построения модели нам понадобится 4 столбца, а именно: \n",
        "- `meas_length`\n",
        "- `meas_width`\n",
        "- `meas_depth`\n",
        "- `total_sales_price`\n",
        "\n",
        "От остальных столбцов можно избавиться."
      ],
      "metadata": {
        "id": "e78rVEGFJrVN"
      }
    },
    {
      "cell_type": "markdown",
      "source": [
        "(1 балл) Создайте новый датасет и выведите его первые 10 строк: "
      ],
      "metadata": {
        "id": "HhpeXcR1l-Ag"
      }
    },
    {
      "cell_type": "code",
      "source": [
        "model = diamonds[[\"meas_length\", \"meas_width\", \"meas_depth\", \"total_sales_price\"]]\n",
        "model.head(n = 10)"
      ],
      "metadata": {
        "id": "K87VXeCxKFrU",
        "colab": {
          "base_uri": "https://localhost:8080/",
          "height": 363
        },
        "outputId": "68d4cf7c-6644-4895-e77e-2c832983e4b4"
      },
      "execution_count": 25,
      "outputs": [
        {
          "output_type": "execute_result",
          "data": {
            "text/plain": [
              "   meas_length  meas_width  meas_depth  total_sales_price\n",
              "0         2.85        2.87        1.79                200\n",
              "1         2.84        2.89        1.78                200\n",
              "2         2.88        2.90        1.77                200\n",
              "3         2.86        2.88        1.78                200\n",
              "4         2.79        2.83        1.82                200\n",
              "5         2.95        2.99        1.81                200\n",
              "6         2.85        2.88        1.84                200\n",
              "7         2.86        2.89        1.78                200\n",
              "8         2.89        2.92        1.85                200\n",
              "9         2.83        2.87        1.80                200"
            ],
            "text/html": [
              "\n",
              "  <div id=\"df-41c16d78-297e-4884-9e79-459c4024f6ab\">\n",
              "    <div class=\"colab-df-container\">\n",
              "      <div>\n",
              "<style scoped>\n",
              "    .dataframe tbody tr th:only-of-type {\n",
              "        vertical-align: middle;\n",
              "    }\n",
              "\n",
              "    .dataframe tbody tr th {\n",
              "        vertical-align: top;\n",
              "    }\n",
              "\n",
              "    .dataframe thead th {\n",
              "        text-align: right;\n",
              "    }\n",
              "</style>\n",
              "<table border=\"1\" class=\"dataframe\">\n",
              "  <thead>\n",
              "    <tr style=\"text-align: right;\">\n",
              "      <th></th>\n",
              "      <th>meas_length</th>\n",
              "      <th>meas_width</th>\n",
              "      <th>meas_depth</th>\n",
              "      <th>total_sales_price</th>\n",
              "    </tr>\n",
              "  </thead>\n",
              "  <tbody>\n",
              "    <tr>\n",
              "      <th>0</th>\n",
              "      <td>2.85</td>\n",
              "      <td>2.87</td>\n",
              "      <td>1.79</td>\n",
              "      <td>200</td>\n",
              "    </tr>\n",
              "    <tr>\n",
              "      <th>1</th>\n",
              "      <td>2.84</td>\n",
              "      <td>2.89</td>\n",
              "      <td>1.78</td>\n",
              "      <td>200</td>\n",
              "    </tr>\n",
              "    <tr>\n",
              "      <th>2</th>\n",
              "      <td>2.88</td>\n",
              "      <td>2.90</td>\n",
              "      <td>1.77</td>\n",
              "      <td>200</td>\n",
              "    </tr>\n",
              "    <tr>\n",
              "      <th>3</th>\n",
              "      <td>2.86</td>\n",
              "      <td>2.88</td>\n",
              "      <td>1.78</td>\n",
              "      <td>200</td>\n",
              "    </tr>\n",
              "    <tr>\n",
              "      <th>4</th>\n",
              "      <td>2.79</td>\n",
              "      <td>2.83</td>\n",
              "      <td>1.82</td>\n",
              "      <td>200</td>\n",
              "    </tr>\n",
              "    <tr>\n",
              "      <th>5</th>\n",
              "      <td>2.95</td>\n",
              "      <td>2.99</td>\n",
              "      <td>1.81</td>\n",
              "      <td>200</td>\n",
              "    </tr>\n",
              "    <tr>\n",
              "      <th>6</th>\n",
              "      <td>2.85</td>\n",
              "      <td>2.88</td>\n",
              "      <td>1.84</td>\n",
              "      <td>200</td>\n",
              "    </tr>\n",
              "    <tr>\n",
              "      <th>7</th>\n",
              "      <td>2.86</td>\n",
              "      <td>2.89</td>\n",
              "      <td>1.78</td>\n",
              "      <td>200</td>\n",
              "    </tr>\n",
              "    <tr>\n",
              "      <th>8</th>\n",
              "      <td>2.89</td>\n",
              "      <td>2.92</td>\n",
              "      <td>1.85</td>\n",
              "      <td>200</td>\n",
              "    </tr>\n",
              "    <tr>\n",
              "      <th>9</th>\n",
              "      <td>2.83</td>\n",
              "      <td>2.87</td>\n",
              "      <td>1.80</td>\n",
              "      <td>200</td>\n",
              "    </tr>\n",
              "  </tbody>\n",
              "</table>\n",
              "</div>\n",
              "      <button class=\"colab-df-convert\" onclick=\"convertToInteractive('df-41c16d78-297e-4884-9e79-459c4024f6ab')\"\n",
              "              title=\"Convert this dataframe to an interactive table.\"\n",
              "              style=\"display:none;\">\n",
              "        \n",
              "  <svg xmlns=\"http://www.w3.org/2000/svg\" height=\"24px\"viewBox=\"0 0 24 24\"\n",
              "       width=\"24px\">\n",
              "    <path d=\"M0 0h24v24H0V0z\" fill=\"none\"/>\n",
              "    <path d=\"M18.56 5.44l.94 2.06.94-2.06 2.06-.94-2.06-.94-.94-2.06-.94 2.06-2.06.94zm-11 1L8.5 8.5l.94-2.06 2.06-.94-2.06-.94L8.5 2.5l-.94 2.06-2.06.94zm10 10l.94 2.06.94-2.06 2.06-.94-2.06-.94-.94-2.06-.94 2.06-2.06.94z\"/><path d=\"M17.41 7.96l-1.37-1.37c-.4-.4-.92-.59-1.43-.59-.52 0-1.04.2-1.43.59L10.3 9.45l-7.72 7.72c-.78.78-.78 2.05 0 2.83L4 21.41c.39.39.9.59 1.41.59.51 0 1.02-.2 1.41-.59l7.78-7.78 2.81-2.81c.8-.78.8-2.07 0-2.86zM5.41 20L4 18.59l7.72-7.72 1.47 1.35L5.41 20z\"/>\n",
              "  </svg>\n",
              "      </button>\n",
              "      \n",
              "  <style>\n",
              "    .colab-df-container {\n",
              "      display:flex;\n",
              "      flex-wrap:wrap;\n",
              "      gap: 12px;\n",
              "    }\n",
              "\n",
              "    .colab-df-convert {\n",
              "      background-color: #E8F0FE;\n",
              "      border: none;\n",
              "      border-radius: 50%;\n",
              "      cursor: pointer;\n",
              "      display: none;\n",
              "      fill: #1967D2;\n",
              "      height: 32px;\n",
              "      padding: 0 0 0 0;\n",
              "      width: 32px;\n",
              "    }\n",
              "\n",
              "    .colab-df-convert:hover {\n",
              "      background-color: #E2EBFA;\n",
              "      box-shadow: 0px 1px 2px rgba(60, 64, 67, 0.3), 0px 1px 3px 1px rgba(60, 64, 67, 0.15);\n",
              "      fill: #174EA6;\n",
              "    }\n",
              "\n",
              "    [theme=dark] .colab-df-convert {\n",
              "      background-color: #3B4455;\n",
              "      fill: #D2E3FC;\n",
              "    }\n",
              "\n",
              "    [theme=dark] .colab-df-convert:hover {\n",
              "      background-color: #434B5C;\n",
              "      box-shadow: 0px 1px 3px 1px rgba(0, 0, 0, 0.15);\n",
              "      filter: drop-shadow(0px 1px 2px rgba(0, 0, 0, 0.3));\n",
              "      fill: #FFFFFF;\n",
              "    }\n",
              "  </style>\n",
              "\n",
              "      <script>\n",
              "        const buttonEl =\n",
              "          document.querySelector('#df-41c16d78-297e-4884-9e79-459c4024f6ab button.colab-df-convert');\n",
              "        buttonEl.style.display =\n",
              "          google.colab.kernel.accessAllowed ? 'block' : 'none';\n",
              "\n",
              "        async function convertToInteractive(key) {\n",
              "          const element = document.querySelector('#df-41c16d78-297e-4884-9e79-459c4024f6ab');\n",
              "          const dataTable =\n",
              "            await google.colab.kernel.invokeFunction('convertToInteractive',\n",
              "                                                     [key], {});\n",
              "          if (!dataTable) return;\n",
              "\n",
              "          const docLinkHtml = 'Like what you see? Visit the ' +\n",
              "            '<a target=\"_blank\" href=https://colab.research.google.com/notebooks/data_table.ipynb>data table notebook</a>'\n",
              "            + ' to learn more about interactive tables.';\n",
              "          element.innerHTML = '';\n",
              "          dataTable['output_type'] = 'display_data';\n",
              "          await google.colab.output.renderOutput(dataTable, element);\n",
              "          const docLink = document.createElement('div');\n",
              "          docLink.innerHTML = docLinkHtml;\n",
              "          element.appendChild(docLink);\n",
              "        }\n",
              "      </script>\n",
              "    </div>\n",
              "  </div>\n",
              "  "
            ]
          },
          "metadata": {},
          "execution_count": 25
        }
      ]
    },
    {
      "cell_type": "markdown",
      "source": [
        "(1 балл) Перемешайте строки в датафрейме случайным образом: "
      ],
      "metadata": {
        "id": "Uex8DVspKFxn"
      }
    },
    {
      "cell_type": "code",
      "source": [
        "model = model.sample(frac = 1, random_state = 42).reset_index(drop=True)\n",
        "model"
      ],
      "metadata": {
        "id": "5lRYIwGOKOnT",
        "colab": {
          "base_uri": "https://localhost:8080/",
          "height": 424
        },
        "outputId": "909ce515-007c-4ead-b62c-18ad35d5621e"
      },
      "execution_count": 29,
      "outputs": [
        {
          "output_type": "execute_result",
          "data": {
            "text/plain": [
              "        meas_length  meas_width  meas_depth  total_sales_price\n",
              "0              4.76        4.77        2.95               1030\n",
              "1              4.52        3.37        2.20                554\n",
              "2              4.00        4.02        2.50               1152\n",
              "3              4.31        4.32        2.75                610\n",
              "4              5.73        5.78        3.52               3727\n",
              "...             ...         ...         ...                ...\n",
              "219698         4.70        4.73        2.91               1120\n",
              "219699         5.45        5.49        3.25               3348\n",
              "219700         4.27        4.30        2.64                664\n",
              "219701         8.01        4.21        2.57               2372\n",
              "219702         5.01        5.07        3.17               2164\n",
              "\n",
              "[219703 rows x 4 columns]"
            ],
            "text/html": [
              "\n",
              "  <div id=\"df-81947e09-ba09-4730-8663-ea96ba87c44d\">\n",
              "    <div class=\"colab-df-container\">\n",
              "      <div>\n",
              "<style scoped>\n",
              "    .dataframe tbody tr th:only-of-type {\n",
              "        vertical-align: middle;\n",
              "    }\n",
              "\n",
              "    .dataframe tbody tr th {\n",
              "        vertical-align: top;\n",
              "    }\n",
              "\n",
              "    .dataframe thead th {\n",
              "        text-align: right;\n",
              "    }\n",
              "</style>\n",
              "<table border=\"1\" class=\"dataframe\">\n",
              "  <thead>\n",
              "    <tr style=\"text-align: right;\">\n",
              "      <th></th>\n",
              "      <th>meas_length</th>\n",
              "      <th>meas_width</th>\n",
              "      <th>meas_depth</th>\n",
              "      <th>total_sales_price</th>\n",
              "    </tr>\n",
              "  </thead>\n",
              "  <tbody>\n",
              "    <tr>\n",
              "      <th>0</th>\n",
              "      <td>4.76</td>\n",
              "      <td>4.77</td>\n",
              "      <td>2.95</td>\n",
              "      <td>1030</td>\n",
              "    </tr>\n",
              "    <tr>\n",
              "      <th>1</th>\n",
              "      <td>4.52</td>\n",
              "      <td>3.37</td>\n",
              "      <td>2.20</td>\n",
              "      <td>554</td>\n",
              "    </tr>\n",
              "    <tr>\n",
              "      <th>2</th>\n",
              "      <td>4.00</td>\n",
              "      <td>4.02</td>\n",
              "      <td>2.50</td>\n",
              "      <td>1152</td>\n",
              "    </tr>\n",
              "    <tr>\n",
              "      <th>3</th>\n",
              "      <td>4.31</td>\n",
              "      <td>4.32</td>\n",
              "      <td>2.75</td>\n",
              "      <td>610</td>\n",
              "    </tr>\n",
              "    <tr>\n",
              "      <th>4</th>\n",
              "      <td>5.73</td>\n",
              "      <td>5.78</td>\n",
              "      <td>3.52</td>\n",
              "      <td>3727</td>\n",
              "    </tr>\n",
              "    <tr>\n",
              "      <th>...</th>\n",
              "      <td>...</td>\n",
              "      <td>...</td>\n",
              "      <td>...</td>\n",
              "      <td>...</td>\n",
              "    </tr>\n",
              "    <tr>\n",
              "      <th>219698</th>\n",
              "      <td>4.70</td>\n",
              "      <td>4.73</td>\n",
              "      <td>2.91</td>\n",
              "      <td>1120</td>\n",
              "    </tr>\n",
              "    <tr>\n",
              "      <th>219699</th>\n",
              "      <td>5.45</td>\n",
              "      <td>5.49</td>\n",
              "      <td>3.25</td>\n",
              "      <td>3348</td>\n",
              "    </tr>\n",
              "    <tr>\n",
              "      <th>219700</th>\n",
              "      <td>4.27</td>\n",
              "      <td>4.30</td>\n",
              "      <td>2.64</td>\n",
              "      <td>664</td>\n",
              "    </tr>\n",
              "    <tr>\n",
              "      <th>219701</th>\n",
              "      <td>8.01</td>\n",
              "      <td>4.21</td>\n",
              "      <td>2.57</td>\n",
              "      <td>2372</td>\n",
              "    </tr>\n",
              "    <tr>\n",
              "      <th>219702</th>\n",
              "      <td>5.01</td>\n",
              "      <td>5.07</td>\n",
              "      <td>3.17</td>\n",
              "      <td>2164</td>\n",
              "    </tr>\n",
              "  </tbody>\n",
              "</table>\n",
              "<p>219703 rows × 4 columns</p>\n",
              "</div>\n",
              "      <button class=\"colab-df-convert\" onclick=\"convertToInteractive('df-81947e09-ba09-4730-8663-ea96ba87c44d')\"\n",
              "              title=\"Convert this dataframe to an interactive table.\"\n",
              "              style=\"display:none;\">\n",
              "        \n",
              "  <svg xmlns=\"http://www.w3.org/2000/svg\" height=\"24px\"viewBox=\"0 0 24 24\"\n",
              "       width=\"24px\">\n",
              "    <path d=\"M0 0h24v24H0V0z\" fill=\"none\"/>\n",
              "    <path d=\"M18.56 5.44l.94 2.06.94-2.06 2.06-.94-2.06-.94-.94-2.06-.94 2.06-2.06.94zm-11 1L8.5 8.5l.94-2.06 2.06-.94-2.06-.94L8.5 2.5l-.94 2.06-2.06.94zm10 10l.94 2.06.94-2.06 2.06-.94-2.06-.94-.94-2.06-.94 2.06-2.06.94z\"/><path d=\"M17.41 7.96l-1.37-1.37c-.4-.4-.92-.59-1.43-.59-.52 0-1.04.2-1.43.59L10.3 9.45l-7.72 7.72c-.78.78-.78 2.05 0 2.83L4 21.41c.39.39.9.59 1.41.59.51 0 1.02-.2 1.41-.59l7.78-7.78 2.81-2.81c.8-.78.8-2.07 0-2.86zM5.41 20L4 18.59l7.72-7.72 1.47 1.35L5.41 20z\"/>\n",
              "  </svg>\n",
              "      </button>\n",
              "      \n",
              "  <style>\n",
              "    .colab-df-container {\n",
              "      display:flex;\n",
              "      flex-wrap:wrap;\n",
              "      gap: 12px;\n",
              "    }\n",
              "\n",
              "    .colab-df-convert {\n",
              "      background-color: #E8F0FE;\n",
              "      border: none;\n",
              "      border-radius: 50%;\n",
              "      cursor: pointer;\n",
              "      display: none;\n",
              "      fill: #1967D2;\n",
              "      height: 32px;\n",
              "      padding: 0 0 0 0;\n",
              "      width: 32px;\n",
              "    }\n",
              "\n",
              "    .colab-df-convert:hover {\n",
              "      background-color: #E2EBFA;\n",
              "      box-shadow: 0px 1px 2px rgba(60, 64, 67, 0.3), 0px 1px 3px 1px rgba(60, 64, 67, 0.15);\n",
              "      fill: #174EA6;\n",
              "    }\n",
              "\n",
              "    [theme=dark] .colab-df-convert {\n",
              "      background-color: #3B4455;\n",
              "      fill: #D2E3FC;\n",
              "    }\n",
              "\n",
              "    [theme=dark] .colab-df-convert:hover {\n",
              "      background-color: #434B5C;\n",
              "      box-shadow: 0px 1px 3px 1px rgba(0, 0, 0, 0.15);\n",
              "      filter: drop-shadow(0px 1px 2px rgba(0, 0, 0, 0.3));\n",
              "      fill: #FFFFFF;\n",
              "    }\n",
              "  </style>\n",
              "\n",
              "      <script>\n",
              "        const buttonEl =\n",
              "          document.querySelector('#df-81947e09-ba09-4730-8663-ea96ba87c44d button.colab-df-convert');\n",
              "        buttonEl.style.display =\n",
              "          google.colab.kernel.accessAllowed ? 'block' : 'none';\n",
              "\n",
              "        async function convertToInteractive(key) {\n",
              "          const element = document.querySelector('#df-81947e09-ba09-4730-8663-ea96ba87c44d');\n",
              "          const dataTable =\n",
              "            await google.colab.kernel.invokeFunction('convertToInteractive',\n",
              "                                                     [key], {});\n",
              "          if (!dataTable) return;\n",
              "\n",
              "          const docLinkHtml = 'Like what you see? Visit the ' +\n",
              "            '<a target=\"_blank\" href=https://colab.research.google.com/notebooks/data_table.ipynb>data table notebook</a>'\n",
              "            + ' to learn more about interactive tables.';\n",
              "          element.innerHTML = '';\n",
              "          dataTable['output_type'] = 'display_data';\n",
              "          await google.colab.output.renderOutput(dataTable, element);\n",
              "          const docLink = document.createElement('div');\n",
              "          docLink.innerHTML = docLinkHtml;\n",
              "          element.appendChild(docLink);\n",
              "        }\n",
              "      </script>\n",
              "    </div>\n",
              "  </div>\n",
              "  "
            ]
          },
          "metadata": {},
          "execution_count": 29
        }
      ]
    },
    {
      "cell_type": "markdown",
      "source": [
        "(1 балл) Сформируем новую колонку - для каждого бриллианта найдем сумму Минковского (p=3) по 3 измерениям бриллианта:"
      ],
      "metadata": {
        "id": "iEHBNONDLl64"
      }
    },
    {
      "cell_type": "code",
      "source": [
        "model[\"Minkowski_sum\"] = pd.DataFrame(data=[model[\"meas_length\"].pow(3), model[\"meas_width\"].pow(3), model[\"meas_depth\"].pow(3)]).sum(axis=0).pow(1/3)\n",
        "model"
      ],
      "metadata": {
        "id": "V3CTAQbAMQsR",
        "colab": {
          "base_uri": "https://localhost:8080/",
          "height": 424
        },
        "outputId": "f8ce3c91-eaa2-424a-d456-1d7b9ddb6748"
      },
      "execution_count": 30,
      "outputs": [
        {
          "output_type": "execute_result",
          "data": {
            "text/plain": [
              "        meas_length  meas_width  meas_depth  total_sales_price  Minkowski_sum\n",
              "0              4.76        4.77        2.95               1030       6.232142\n",
              "1              4.52        3.37        2.20                554       5.208101\n",
              "2              4.00        4.02        2.50               1152       5.248629\n",
              "3              4.31        4.32        2.75                610       5.661664\n",
              "4              5.73        5.78        3.52               3727       7.517572\n",
              "...             ...         ...         ...                ...            ...\n",
              "219698         4.70        4.73        2.91               1120       6.164776\n",
              "219699         5.45        5.49        3.25               3348       7.124808\n",
              "219700         4.27        4.30        2.64                664       5.601543\n",
              "219701         8.01        4.21        2.57               2372       8.460092\n",
              "219702         5.01        5.07        3.17               2164       6.603322\n",
              "\n",
              "[219703 rows x 5 columns]"
            ],
            "text/html": [
              "\n",
              "  <div id=\"df-d97adcd2-dbc1-43fb-82b0-57c8cacfacb0\">\n",
              "    <div class=\"colab-df-container\">\n",
              "      <div>\n",
              "<style scoped>\n",
              "    .dataframe tbody tr th:only-of-type {\n",
              "        vertical-align: middle;\n",
              "    }\n",
              "\n",
              "    .dataframe tbody tr th {\n",
              "        vertical-align: top;\n",
              "    }\n",
              "\n",
              "    .dataframe thead th {\n",
              "        text-align: right;\n",
              "    }\n",
              "</style>\n",
              "<table border=\"1\" class=\"dataframe\">\n",
              "  <thead>\n",
              "    <tr style=\"text-align: right;\">\n",
              "      <th></th>\n",
              "      <th>meas_length</th>\n",
              "      <th>meas_width</th>\n",
              "      <th>meas_depth</th>\n",
              "      <th>total_sales_price</th>\n",
              "      <th>Minkowski_sum</th>\n",
              "    </tr>\n",
              "  </thead>\n",
              "  <tbody>\n",
              "    <tr>\n",
              "      <th>0</th>\n",
              "      <td>4.76</td>\n",
              "      <td>4.77</td>\n",
              "      <td>2.95</td>\n",
              "      <td>1030</td>\n",
              "      <td>6.232142</td>\n",
              "    </tr>\n",
              "    <tr>\n",
              "      <th>1</th>\n",
              "      <td>4.52</td>\n",
              "      <td>3.37</td>\n",
              "      <td>2.20</td>\n",
              "      <td>554</td>\n",
              "      <td>5.208101</td>\n",
              "    </tr>\n",
              "    <tr>\n",
              "      <th>2</th>\n",
              "      <td>4.00</td>\n",
              "      <td>4.02</td>\n",
              "      <td>2.50</td>\n",
              "      <td>1152</td>\n",
              "      <td>5.248629</td>\n",
              "    </tr>\n",
              "    <tr>\n",
              "      <th>3</th>\n",
              "      <td>4.31</td>\n",
              "      <td>4.32</td>\n",
              "      <td>2.75</td>\n",
              "      <td>610</td>\n",
              "      <td>5.661664</td>\n",
              "    </tr>\n",
              "    <tr>\n",
              "      <th>4</th>\n",
              "      <td>5.73</td>\n",
              "      <td>5.78</td>\n",
              "      <td>3.52</td>\n",
              "      <td>3727</td>\n",
              "      <td>7.517572</td>\n",
              "    </tr>\n",
              "    <tr>\n",
              "      <th>...</th>\n",
              "      <td>...</td>\n",
              "      <td>...</td>\n",
              "      <td>...</td>\n",
              "      <td>...</td>\n",
              "      <td>...</td>\n",
              "    </tr>\n",
              "    <tr>\n",
              "      <th>219698</th>\n",
              "      <td>4.70</td>\n",
              "      <td>4.73</td>\n",
              "      <td>2.91</td>\n",
              "      <td>1120</td>\n",
              "      <td>6.164776</td>\n",
              "    </tr>\n",
              "    <tr>\n",
              "      <th>219699</th>\n",
              "      <td>5.45</td>\n",
              "      <td>5.49</td>\n",
              "      <td>3.25</td>\n",
              "      <td>3348</td>\n",
              "      <td>7.124808</td>\n",
              "    </tr>\n",
              "    <tr>\n",
              "      <th>219700</th>\n",
              "      <td>4.27</td>\n",
              "      <td>4.30</td>\n",
              "      <td>2.64</td>\n",
              "      <td>664</td>\n",
              "      <td>5.601543</td>\n",
              "    </tr>\n",
              "    <tr>\n",
              "      <th>219701</th>\n",
              "      <td>8.01</td>\n",
              "      <td>4.21</td>\n",
              "      <td>2.57</td>\n",
              "      <td>2372</td>\n",
              "      <td>8.460092</td>\n",
              "    </tr>\n",
              "    <tr>\n",
              "      <th>219702</th>\n",
              "      <td>5.01</td>\n",
              "      <td>5.07</td>\n",
              "      <td>3.17</td>\n",
              "      <td>2164</td>\n",
              "      <td>6.603322</td>\n",
              "    </tr>\n",
              "  </tbody>\n",
              "</table>\n",
              "<p>219703 rows × 5 columns</p>\n",
              "</div>\n",
              "      <button class=\"colab-df-convert\" onclick=\"convertToInteractive('df-d97adcd2-dbc1-43fb-82b0-57c8cacfacb0')\"\n",
              "              title=\"Convert this dataframe to an interactive table.\"\n",
              "              style=\"display:none;\">\n",
              "        \n",
              "  <svg xmlns=\"http://www.w3.org/2000/svg\" height=\"24px\"viewBox=\"0 0 24 24\"\n",
              "       width=\"24px\">\n",
              "    <path d=\"M0 0h24v24H0V0z\" fill=\"none\"/>\n",
              "    <path d=\"M18.56 5.44l.94 2.06.94-2.06 2.06-.94-2.06-.94-.94-2.06-.94 2.06-2.06.94zm-11 1L8.5 8.5l.94-2.06 2.06-.94-2.06-.94L8.5 2.5l-.94 2.06-2.06.94zm10 10l.94 2.06.94-2.06 2.06-.94-2.06-.94-.94-2.06-.94 2.06-2.06.94z\"/><path d=\"M17.41 7.96l-1.37-1.37c-.4-.4-.92-.59-1.43-.59-.52 0-1.04.2-1.43.59L10.3 9.45l-7.72 7.72c-.78.78-.78 2.05 0 2.83L4 21.41c.39.39.9.59 1.41.59.51 0 1.02-.2 1.41-.59l7.78-7.78 2.81-2.81c.8-.78.8-2.07 0-2.86zM5.41 20L4 18.59l7.72-7.72 1.47 1.35L5.41 20z\"/>\n",
              "  </svg>\n",
              "      </button>\n",
              "      \n",
              "  <style>\n",
              "    .colab-df-container {\n",
              "      display:flex;\n",
              "      flex-wrap:wrap;\n",
              "      gap: 12px;\n",
              "    }\n",
              "\n",
              "    .colab-df-convert {\n",
              "      background-color: #E8F0FE;\n",
              "      border: none;\n",
              "      border-radius: 50%;\n",
              "      cursor: pointer;\n",
              "      display: none;\n",
              "      fill: #1967D2;\n",
              "      height: 32px;\n",
              "      padding: 0 0 0 0;\n",
              "      width: 32px;\n",
              "    }\n",
              "\n",
              "    .colab-df-convert:hover {\n",
              "      background-color: #E2EBFA;\n",
              "      box-shadow: 0px 1px 2px rgba(60, 64, 67, 0.3), 0px 1px 3px 1px rgba(60, 64, 67, 0.15);\n",
              "      fill: #174EA6;\n",
              "    }\n",
              "\n",
              "    [theme=dark] .colab-df-convert {\n",
              "      background-color: #3B4455;\n",
              "      fill: #D2E3FC;\n",
              "    }\n",
              "\n",
              "    [theme=dark] .colab-df-convert:hover {\n",
              "      background-color: #434B5C;\n",
              "      box-shadow: 0px 1px 3px 1px rgba(0, 0, 0, 0.15);\n",
              "      filter: drop-shadow(0px 1px 2px rgba(0, 0, 0, 0.3));\n",
              "      fill: #FFFFFF;\n",
              "    }\n",
              "  </style>\n",
              "\n",
              "      <script>\n",
              "        const buttonEl =\n",
              "          document.querySelector('#df-d97adcd2-dbc1-43fb-82b0-57c8cacfacb0 button.colab-df-convert');\n",
              "        buttonEl.style.display =\n",
              "          google.colab.kernel.accessAllowed ? 'block' : 'none';\n",
              "\n",
              "        async function convertToInteractive(key) {\n",
              "          const element = document.querySelector('#df-d97adcd2-dbc1-43fb-82b0-57c8cacfacb0');\n",
              "          const dataTable =\n",
              "            await google.colab.kernel.invokeFunction('convertToInteractive',\n",
              "                                                     [key], {});\n",
              "          if (!dataTable) return;\n",
              "\n",
              "          const docLinkHtml = 'Like what you see? Visit the ' +\n",
              "            '<a target=\"_blank\" href=https://colab.research.google.com/notebooks/data_table.ipynb>data table notebook</a>'\n",
              "            + ' to learn more about interactive tables.';\n",
              "          element.innerHTML = '';\n",
              "          dataTable['output_type'] = 'display_data';\n",
              "          await google.colab.output.renderOutput(dataTable, element);\n",
              "          const docLink = document.createElement('div');\n",
              "          docLink.innerHTML = docLinkHtml;\n",
              "          element.appendChild(docLink);\n",
              "        }\n",
              "      </script>\n",
              "    </div>\n",
              "  </div>\n",
              "  "
            ]
          },
          "metadata": {},
          "execution_count": 30
        }
      ]
    },
    {
      "cell_type": "markdown",
      "source": [
        "(1 балл) Сформируем новый датасет из двух колонок - сумма Минковского и `total_sales_price`: "
      ],
      "metadata": {
        "id": "z5s5_yB8n1Hp"
      }
    },
    {
      "cell_type": "code",
      "source": [
        "dataset = model[[\"Minkowski_sum\", \"total_sales_price\"]]\n",
        "dataset"
      ],
      "metadata": {
        "id": "tXxZnWS7n9q0",
        "colab": {
          "base_uri": "https://localhost:8080/",
          "height": 424
        },
        "outputId": "0ab0b1b8-e334-4aeb-ad96-1f4a5245755a"
      },
      "execution_count": 33,
      "outputs": [
        {
          "output_type": "execute_result",
          "data": {
            "text/plain": [
              "        Minkowski_sum  total_sales_price\n",
              "0            6.232142               1030\n",
              "1            5.208101                554\n",
              "2            5.248629               1152\n",
              "3            5.661664                610\n",
              "4            7.517572               3727\n",
              "...               ...                ...\n",
              "219698       6.164776               1120\n",
              "219699       7.124808               3348\n",
              "219700       5.601543                664\n",
              "219701       8.460092               2372\n",
              "219702       6.603322               2164\n",
              "\n",
              "[219703 rows x 2 columns]"
            ],
            "text/html": [
              "\n",
              "  <div id=\"df-236258f0-9ee0-44e8-bab2-4cc3553971d9\">\n",
              "    <div class=\"colab-df-container\">\n",
              "      <div>\n",
              "<style scoped>\n",
              "    .dataframe tbody tr th:only-of-type {\n",
              "        vertical-align: middle;\n",
              "    }\n",
              "\n",
              "    .dataframe tbody tr th {\n",
              "        vertical-align: top;\n",
              "    }\n",
              "\n",
              "    .dataframe thead th {\n",
              "        text-align: right;\n",
              "    }\n",
              "</style>\n",
              "<table border=\"1\" class=\"dataframe\">\n",
              "  <thead>\n",
              "    <tr style=\"text-align: right;\">\n",
              "      <th></th>\n",
              "      <th>Minkowski_sum</th>\n",
              "      <th>total_sales_price</th>\n",
              "    </tr>\n",
              "  </thead>\n",
              "  <tbody>\n",
              "    <tr>\n",
              "      <th>0</th>\n",
              "      <td>6.232142</td>\n",
              "      <td>1030</td>\n",
              "    </tr>\n",
              "    <tr>\n",
              "      <th>1</th>\n",
              "      <td>5.208101</td>\n",
              "      <td>554</td>\n",
              "    </tr>\n",
              "    <tr>\n",
              "      <th>2</th>\n",
              "      <td>5.248629</td>\n",
              "      <td>1152</td>\n",
              "    </tr>\n",
              "    <tr>\n",
              "      <th>3</th>\n",
              "      <td>5.661664</td>\n",
              "      <td>610</td>\n",
              "    </tr>\n",
              "    <tr>\n",
              "      <th>4</th>\n",
              "      <td>7.517572</td>\n",
              "      <td>3727</td>\n",
              "    </tr>\n",
              "    <tr>\n",
              "      <th>...</th>\n",
              "      <td>...</td>\n",
              "      <td>...</td>\n",
              "    </tr>\n",
              "    <tr>\n",
              "      <th>219698</th>\n",
              "      <td>6.164776</td>\n",
              "      <td>1120</td>\n",
              "    </tr>\n",
              "    <tr>\n",
              "      <th>219699</th>\n",
              "      <td>7.124808</td>\n",
              "      <td>3348</td>\n",
              "    </tr>\n",
              "    <tr>\n",
              "      <th>219700</th>\n",
              "      <td>5.601543</td>\n",
              "      <td>664</td>\n",
              "    </tr>\n",
              "    <tr>\n",
              "      <th>219701</th>\n",
              "      <td>8.460092</td>\n",
              "      <td>2372</td>\n",
              "    </tr>\n",
              "    <tr>\n",
              "      <th>219702</th>\n",
              "      <td>6.603322</td>\n",
              "      <td>2164</td>\n",
              "    </tr>\n",
              "  </tbody>\n",
              "</table>\n",
              "<p>219703 rows × 2 columns</p>\n",
              "</div>\n",
              "      <button class=\"colab-df-convert\" onclick=\"convertToInteractive('df-236258f0-9ee0-44e8-bab2-4cc3553971d9')\"\n",
              "              title=\"Convert this dataframe to an interactive table.\"\n",
              "              style=\"display:none;\">\n",
              "        \n",
              "  <svg xmlns=\"http://www.w3.org/2000/svg\" height=\"24px\"viewBox=\"0 0 24 24\"\n",
              "       width=\"24px\">\n",
              "    <path d=\"M0 0h24v24H0V0z\" fill=\"none\"/>\n",
              "    <path d=\"M18.56 5.44l.94 2.06.94-2.06 2.06-.94-2.06-.94-.94-2.06-.94 2.06-2.06.94zm-11 1L8.5 8.5l.94-2.06 2.06-.94-2.06-.94L8.5 2.5l-.94 2.06-2.06.94zm10 10l.94 2.06.94-2.06 2.06-.94-2.06-.94-.94-2.06-.94 2.06-2.06.94z\"/><path d=\"M17.41 7.96l-1.37-1.37c-.4-.4-.92-.59-1.43-.59-.52 0-1.04.2-1.43.59L10.3 9.45l-7.72 7.72c-.78.78-.78 2.05 0 2.83L4 21.41c.39.39.9.59 1.41.59.51 0 1.02-.2 1.41-.59l7.78-7.78 2.81-2.81c.8-.78.8-2.07 0-2.86zM5.41 20L4 18.59l7.72-7.72 1.47 1.35L5.41 20z\"/>\n",
              "  </svg>\n",
              "      </button>\n",
              "      \n",
              "  <style>\n",
              "    .colab-df-container {\n",
              "      display:flex;\n",
              "      flex-wrap:wrap;\n",
              "      gap: 12px;\n",
              "    }\n",
              "\n",
              "    .colab-df-convert {\n",
              "      background-color: #E8F0FE;\n",
              "      border: none;\n",
              "      border-radius: 50%;\n",
              "      cursor: pointer;\n",
              "      display: none;\n",
              "      fill: #1967D2;\n",
              "      height: 32px;\n",
              "      padding: 0 0 0 0;\n",
              "      width: 32px;\n",
              "    }\n",
              "\n",
              "    .colab-df-convert:hover {\n",
              "      background-color: #E2EBFA;\n",
              "      box-shadow: 0px 1px 2px rgba(60, 64, 67, 0.3), 0px 1px 3px 1px rgba(60, 64, 67, 0.15);\n",
              "      fill: #174EA6;\n",
              "    }\n",
              "\n",
              "    [theme=dark] .colab-df-convert {\n",
              "      background-color: #3B4455;\n",
              "      fill: #D2E3FC;\n",
              "    }\n",
              "\n",
              "    [theme=dark] .colab-df-convert:hover {\n",
              "      background-color: #434B5C;\n",
              "      box-shadow: 0px 1px 3px 1px rgba(0, 0, 0, 0.15);\n",
              "      filter: drop-shadow(0px 1px 2px rgba(0, 0, 0, 0.3));\n",
              "      fill: #FFFFFF;\n",
              "    }\n",
              "  </style>\n",
              "\n",
              "      <script>\n",
              "        const buttonEl =\n",
              "          document.querySelector('#df-236258f0-9ee0-44e8-bab2-4cc3553971d9 button.colab-df-convert');\n",
              "        buttonEl.style.display =\n",
              "          google.colab.kernel.accessAllowed ? 'block' : 'none';\n",
              "\n",
              "        async function convertToInteractive(key) {\n",
              "          const element = document.querySelector('#df-236258f0-9ee0-44e8-bab2-4cc3553971d9');\n",
              "          const dataTable =\n",
              "            await google.colab.kernel.invokeFunction('convertToInteractive',\n",
              "                                                     [key], {});\n",
              "          if (!dataTable) return;\n",
              "\n",
              "          const docLinkHtml = 'Like what you see? Visit the ' +\n",
              "            '<a target=\"_blank\" href=https://colab.research.google.com/notebooks/data_table.ipynb>data table notebook</a>'\n",
              "            + ' to learn more about interactive tables.';\n",
              "          element.innerHTML = '';\n",
              "          dataTable['output_type'] = 'display_data';\n",
              "          await google.colab.output.renderOutput(dataTable, element);\n",
              "          const docLink = document.createElement('div');\n",
              "          docLink.innerHTML = docLinkHtml;\n",
              "          element.appendChild(docLink);\n",
              "        }\n",
              "      </script>\n",
              "    </div>\n",
              "  </div>\n",
              "  "
            ]
          },
          "metadata": {},
          "execution_count": 33
        }
      ]
    },
    {
      "cell_type": "markdown",
      "source": [
        "(1 балл) Разделите вашу выборку на две части в соотношении 8:2 - одна выборка будет для тренировка, а другая для тестов вашей модели:"
      ],
      "metadata": {
        "id": "aXCp0GmUKOvM"
      }
    },
    {
      "cell_type": "code",
      "source": [
        "idx = int(8 * len(dataset) / 10)\n",
        "training = dataset.iloc[:idx].reset_index(drop=True)\n",
        "testing = dataset.iloc[idx:].reset_index(drop=True)"
      ],
      "metadata": {
        "id": "rxwHhdnFK3Lz"
      },
      "execution_count": 36,
      "outputs": []
    },
    {
      "cell_type": "markdown",
      "source": [
        "(2 балла) Постройте график зависимости стоимости от вашего нового параметра размера для тренинг-выборки:"
      ],
      "metadata": {
        "id": "lhuRoIMRK3S3"
      }
    },
    {
      "cell_type": "code",
      "source": [
        "plot_df = training[[\"Minkowski_sum\", \"total_sales_price\"]].dropna()\n",
        "plot_df.plot(x = \"Minkowski_sum\", y = \"total_sales_price\", kind=\"scatter\", marker=\".\", alpha=0.5)\n",
        "plt.title(\"сумма Минковского - стоимость\")\n",
        "plt.xlabel(\"сумма Минковского\")\n",
        "plt.ylabel(\"стоимость\")\n",
        "plt.ticklabel_format(style='plain', axis=\"y\")\n",
        "plt.show()"
      ],
      "metadata": {
        "id": "zdXv0wimNNZq",
        "colab": {
          "base_uri": "https://localhost:8080/",
          "height": 472
        },
        "outputId": "56bc9fd0-f7b1-4cf7-c80a-7fedb83dc674"
      },
      "execution_count": 37,
      "outputs": [
        {
          "output_type": "display_data",
          "data": {
            "text/plain": [
              "<Figure size 640x480 with 1 Axes>"
            ],
            "image/png": "[encoded data removed]"
          },
          "metadata": {}
        }
      ]
    },
    {
      "cell_type": "markdown",
      "source": [
        "(2 балла) Нанесите на тот же график тестовую выборку, используя другой цвет (не забудьте про параметр прозрачности):"
      ],
      "metadata": {
        "id": "0cUx_FSiNOUx"
      }
    },
    {
      "cell_type": "code",
      "source": [
        "plot_df = training[[\"Minkowski_sum\", \"total_sales_price\"]].dropna()\n",
        "ax = plot_df.plot(x=\"Minkowski_sum\", y = \"total_sales_price\", kind=\"scatter\", marker=\".\", alpha=0.5)\n",
        "\n",
        "plot_df = testing[[\"Minkowski_sum\", \"total_sales_price\"]].dropna()\n",
        "plot_df.plot(x = \"Minkowski_sum\", y = \"total_sales_price\", kind=\"scatter\", marker=\".\", color=\"red\", alpha=0.5, ax=ax)\n",
        "\n",
        "plt.title(\"сумма Минковского - стоимость\")\n",
        "plt.xlabel(\"сумма Минковского\")\n",
        "plt.ylabel(\"стоимость\")\n",
        "plt.legend([\"Train\", \"Test\"])\n",
        "plt.ticklabel_format(style='plain', axis=\"y\")\n",
        "plt.show()"
      ],
      "metadata": {
        "id": "R09w4W7VNnM2",
        "colab": {
          "base_uri": "https://localhost:8080/",
          "height": 472
        },
        "outputId": "e512c09b-1630-4574-a83d-02ef85ef627b"
      },
      "execution_count": 38,
      "outputs": [
        {
          "output_type": "display_data",
          "data": {
            "text/plain": [
              "<Figure size 640x480 with 1 Axes>"
            ],
            "image/png": "[encoded data removed]"
          },
          "metadata": {}
        }
      ]
    },
    {
      "cell_type": "markdown",
      "source": [
        "(3 балла) Найдите для каждой бриллианта из тестовой выборки его \"ближайшего соседа\" из тренинг-выборки. Для каждого бриллианта из тестовой выборки найдите расстояния до соответствующего ближайшего соседа:"
      ],
      "metadata": {
        "id": "VwIIccnpNnVj"
      }
    },
    {
      "cell_type": "code",
      "source": [
        "from sklearn.neighbors import NearestNeighbors\n",
        "\n",
        "neighbours = NearestNeighbors(n_neighbors=1, algorithm='auto').fit(training)\n",
        "distances, indices = neighbours.kneighbors(testing)\n",
        "predictions = training.iloc[indices.ravel()].reset_index(drop=True)\n",
        "predictions"
      ],
      "metadata": {
        "id": "t_jpKJ54OBb0",
        "colab": {
          "base_uri": "https://localhost:8080/",
          "height": 424
        },
        "outputId": "f681e10b-bce9-439d-9178-528355731bfe"
      },
      "execution_count": 39,
      "outputs": [
        {
          "output_type": "execute_result",
          "data": {
            "text/plain": [
              "       Minkowski_sum  total_sales_price\n",
              "0           6.534012               3880\n",
              "1           5.728333               1342\n",
              "2           8.778658               3808\n",
              "3           7.591795               5271\n",
              "4           8.856497               9654\n",
              "...              ...                ...\n",
              "43936       6.162136               1120\n",
              "43937       7.060616               3348\n",
              "43938       5.601652                664\n",
              "43939       8.284955               2372\n",
              "43940       6.631054               2164\n",
              "\n",
              "[43941 rows x 2 columns]"
            ],
            "text/html": [
              "\n",
              "  <div id=\"df-78ffc0a1-bd2c-440d-abeb-b11e325d3d99\">\n",
              "    <div class=\"colab-df-container\">\n",
              "      <div>\n",
              "<style scoped>\n",
              "    .dataframe tbody tr th:only-of-type {\n",
              "        vertical-align: middle;\n",
              "    }\n",
              "\n",
              "    .dataframe tbody tr th {\n",
              "        vertical-align: top;\n",
              "    }\n",
              "\n",
              "    .dataframe thead th {\n",
              "        text-align: right;\n",
              "    }\n",
              "</style>\n",
              "<table border=\"1\" class=\"dataframe\">\n",
              "  <thead>\n",
              "    <tr style=\"text-align: right;\">\n",
              "      <th></th>\n",
              "      <th>Minkowski_sum</th>\n",
              "      <th>total_sales_price</th>\n",
              "    </tr>\n",
              "  </thead>\n",
              "  <tbody>\n",
              "    <tr>\n",
              "      <th>0</th>\n",
              "      <td>6.534012</td>\n",
              "      <td>3880</td>\n",
              "    </tr>\n",
              "    <tr>\n",
              "      <th>1</th>\n",
              "      <td>5.728333</td>\n",
              "      <td>1342</td>\n",
              "    </tr>\n",
              "    <tr>\n",
              "      <th>2</th>\n",
              "      <td>8.778658</td>\n",
              "      <td>3808</td>\n",
              "    </tr>\n",
              "    <tr>\n",
              "      <th>3</th>\n",
              "      <td>7.591795</td>\n",
              "      <td>5271</td>\n",
              "    </tr>\n",
              "    <tr>\n",
              "      <th>4</th>\n",
              "      <td>8.856497</td>\n",
              "      <td>9654</td>\n",
              "    </tr>\n",
              "    <tr>\n",
              "      <th>...</th>\n",
              "      <td>...</td>\n",
              "      <td>...</td>\n",
              "    </tr>\n",
              "    <tr>\n",
              "      <th>43936</th>\n",
              "      <td>6.162136</td>\n",
              "      <td>1120</td>\n",
              "    </tr>\n",
              "    <tr>\n",
              "      <th>43937</th>\n",
              "      <td>7.060616</td>\n",
              "      <td>3348</td>\n",
              "    </tr>\n",
              "    <tr>\n",
              "      <th>43938</th>\n",
              "      <td>5.601652</td>\n",
              "      <td>664</td>\n",
              "    </tr>\n",
              "    <tr>\n",
              "      <th>43939</th>\n",
              "      <td>8.284955</td>\n",
              "      <td>2372</td>\n",
              "    </tr>\n",
              "    <tr>\n",
              "      <th>43940</th>\n",
              "      <td>6.631054</td>\n",
              "      <td>2164</td>\n",
              "    </tr>\n",
              "  </tbody>\n",
              "</table>\n",
              "<p>43941 rows × 2 columns</p>\n",
              "</div>\n",
              "      <button class=\"colab-df-convert\" onclick=\"convertToInteractive('df-78ffc0a1-bd2c-440d-abeb-b11e325d3d99')\"\n",
              "              title=\"Convert this dataframe to an interactive table.\"\n",
              "              style=\"display:none;\">\n",
              "        \n",
              "  <svg xmlns=\"http://www.w3.org/2000/svg\" height=\"24px\"viewBox=\"0 0 24 24\"\n",
              "       width=\"24px\">\n",
              "    <path d=\"M0 0h24v24H0V0z\" fill=\"none\"/>\n",
              "    <path d=\"M18.56 5.44l.94 2.06.94-2.06 2.06-.94-2.06-.94-.94-2.06-.94 2.06-2.06.94zm-11 1L8.5 8.5l.94-2.06 2.06-.94-2.06-.94L8.5 2.5l-.94 2.06-2.06.94zm10 10l.94 2.06.94-2.06 2.06-.94-2.06-.94-.94-2.06-.94 2.06-2.06.94z\"/><path d=\"M17.41 7.96l-1.37-1.37c-.4-.4-.92-.59-1.43-.59-.52 0-1.04.2-1.43.59L10.3 9.45l-7.72 7.72c-.78.78-.78 2.05 0 2.83L4 21.41c.39.39.9.59 1.41.59.51 0 1.02-.2 1.41-.59l7.78-7.78 2.81-2.81c.8-.78.8-2.07 0-2.86zM5.41 20L4 18.59l7.72-7.72 1.47 1.35L5.41 20z\"/>\n",
              "  </svg>\n",
              "      </button>\n",
              "      \n",
              "  <style>\n",
              "    .colab-df-container {\n",
              "      display:flex;\n",
              "      flex-wrap:wrap;\n",
              "      gap: 12px;\n",
              "    }\n",
              "\n",
              "    .colab-df-convert {\n",
              "      background-color: #E8F0FE;\n",
              "      border: none;\n",
              "      border-radius: 50%;\n",
              "      cursor: pointer;\n",
              "      display: none;\n",
              "      fill: #1967D2;\n",
              "      height: 32px;\n",
              "      padding: 0 0 0 0;\n",
              "      width: 32px;\n",
              "    }\n",
              "\n",
              "    .colab-df-convert:hover {\n",
              "      background-color: #E2EBFA;\n",
              "      box-shadow: 0px 1px 2px rgba(60, 64, 67, 0.3), 0px 1px 3px 1px rgba(60, 64, 67, 0.15);\n",
              "      fill: #174EA6;\n",
              "    }\n",
              "\n",
              "    [theme=dark] .colab-df-convert {\n",
              "      background-color: #3B4455;\n",
              "      fill: #D2E3FC;\n",
              "    }\n",
              "\n",
              "    [theme=dark] .colab-df-convert:hover {\n",
              "      background-color: #434B5C;\n",
              "      box-shadow: 0px 1px 3px 1px rgba(0, 0, 0, 0.15);\n",
              "      filter: drop-shadow(0px 1px 2px rgba(0, 0, 0, 0.3));\n",
              "      fill: #FFFFFF;\n",
              "    }\n",
              "  </style>\n",
              "\n",
              "      <script>\n",
              "        const buttonEl =\n",
              "          document.querySelector('#df-78ffc0a1-bd2c-440d-abeb-b11e325d3d99 button.colab-df-convert');\n",
              "        buttonEl.style.display =\n",
              "          google.colab.kernel.accessAllowed ? 'block' : 'none';\n",
              "\n",
              "        async function convertToInteractive(key) {\n",
              "          const element = document.querySelector('#df-78ffc0a1-bd2c-440d-abeb-b11e325d3d99');\n",
              "          const dataTable =\n",
              "            await google.colab.kernel.invokeFunction('convertToInteractive',\n",
              "                                                     [key], {});\n",
              "          if (!dataTable) return;\n",
              "\n",
              "          const docLinkHtml = 'Like what you see? Visit the ' +\n",
              "            '<a target=\"_blank\" href=https://colab.research.google.com/notebooks/data_table.ipynb>data table notebook</a>'\n",
              "            + ' to learn more about interactive tables.';\n",
              "          element.innerHTML = '';\n",
              "          dataTable['output_type'] = 'display_data';\n",
              "          await google.colab.output.renderOutput(dataTable, element);\n",
              "          const docLink = document.createElement('div');\n",
              "          docLink.innerHTML = docLinkHtml;\n",
              "          element.appendChild(docLink);\n",
              "        }\n",
              "      </script>\n",
              "    </div>\n",
              "  </div>\n",
              "  "
            ]
          },
          "metadata": {},
          "execution_count": 39
        }
      ]
    },
    {
      "cell_type": "markdown",
      "source": [
        "(3 балла) Найдите насколько сильно (в процентах) отличается цена бриллиантов из тестовой выборки от их соответствующих ближайших соседей:"
      ],
      "metadata": {
        "id": "7R0uaHqurV_u"
      }
    },
    {
      "cell_type": "code",
      "source": [
        "difference = 100 * (testing[\"total_sales_price\"] - predictions[\"total_sales_price\"]).abs() / (testing[\"total_sales_price\"])\n",
        "difference.max()"
      ],
      "metadata": {
        "id": "Uy2ngWJ4rn-4",
        "colab": {
          "base_uri": "https://localhost:8080/"
        },
        "outputId": "c5bae4b0-682a-4f30-bba5-aeddabe6d47c"
      },
      "execution_count": 42,
      "outputs": [
        {
          "output_type": "execute_result",
          "data": {
            "text/plain": [
              "6.8889101933193135"
            ]
          },
          "metadata": {},
          "execution_count": 42
        }
      ]
    },
    {
      "cell_type": "markdown",
      "source": [
        "**Данная модель является выдумкой автора. Не важен коэффициент ошибки, важны ваши шаги для получения коэффициента.**"
      ],
      "metadata": {
        "id": "tl0CHY6_OAxU"
      }
    },
    {
      "cell_type": "markdown",
      "source": [
        "### Введение в машинное обучение"
      ],
      "metadata": {
        "id": "AbrAdKSUrqz5"
      }
    },
    {
      "cell_type": "markdown",
      "source": [
        "Теперь давайте познакомимся с таким сильным инструментом как `sklearn`."
      ],
      "metadata": {
        "id": "I6sqXZLYuox4"
      }
    },
    {
      "cell_type": "markdown",
      "source": [
        "Вам необходимо:\n",
        "1. выбрать 2 категориальных признака\n",
        "2. на их основе обучить решающее дерево\n",
        "3. оценить среднеквадратичную ошибку цены бриллианта\n",
        "4. сделать пп. 1-3 и выбрать ту пару, которая дает лучший результат\n",
        "5. сделать выводы"
      ],
      "metadata": {
        "id": "q4OpdbhwsuAX"
      }
    },
    {
      "cell_type": "markdown",
      "source": [
        "(3 балла) Мы работаем с категориальными признаками, для них не понятно что есть \"больше\" и \"меньше\". Поэтому нам нужно предварительно закодировать значения наших признаков, с чем нам поможет [OneHotEncoder](https://scikit-learn.org/stable/modules/generated/sklearn.preprocessing.OneHotEncoder.html):"
      ],
      "metadata": {
        "id": "rScraaVSxQlT"
      }
    },
    {
      "cell_type": "code",
      "source": [
        "# your code here"
      ],
      "metadata": {
        "id": "G8hDstLlxjry"
      },
      "execution_count": null,
      "outputs": []
    },
    {
      "cell_type": "markdown",
      "source": [
        "(3 балла) Разбейте датасет на обучающую и тестовую выбору. Для этого вам поможет [train_test_split](https://scikit-learn.org/stable/modules/generated/sklearn.model_selection.train_test_split.html):"
      ],
      "metadata": {
        "id": "ig8t-nmRvojA"
      }
    },
    {
      "cell_type": "code",
      "source": [],
      "metadata": {
        "id": "ChVKP43AwY8i"
      },
      "execution_count": null,
      "outputs": []
    },
    {
      "cell_type": "markdown",
      "source": [
        "(3 балла) Затем создайте и обучите вашу модель - [DecisionTreeRegressor](https://scikit-learn.org/stable/modules/generated/sklearn.tree.DecisionTreeRegressor.html):"
      ],
      "metadata": {
        "id": "gbv2zLpkwZsq"
      }
    },
    {
      "cell_type": "code",
      "source": [
        "# your code here"
      ],
      "metadata": {
        "id": "Qfvv2j6Sws8p"
      },
      "execution_count": null,
      "outputs": []
    },
    {
      "cell_type": "markdown",
      "source": [
        "(3 балла) Оцените ошибку вашей модели при помощи [mean_squared_error](https://scikit-learn.org/stable/modules/generated/sklearn.metrics.mean_squared_error.html):"
      ],
      "metadata": {
        "id": "nUvBoY1pwtIv"
      }
    },
    {
      "cell_type": "code",
      "source": [
        "# your code here"
      ],
      "metadata": {
        "id": "q946oHPaxGA4"
      },
      "execution_count": null,
      "outputs": []
    },
    {
      "cell_type": "markdown",
      "source": [
        "(3 балла) **Сделайте выводы какие категориальные признаки лучше:**"
      ],
      "metadata": {
        "id": "scWwHLEKxGPl"
      }
    },
    {
      "cell_type": "markdown",
      "source": [
        "*Подсказки для маленьких: Что вы можете сказать о зависимости по вашей выборке признаков? Какой вы можете сделать вывод об готовых инструментах для работы и написанных Вами?*"
      ],
      "metadata": {
        "id": "djE6Ke2bL5WS"
      }
    },
    {
      "cell_type": "markdown",
      "source": [
        "Ваши выводы здесь :)"
      ],
      "metadata": {
        "id": "lu36_N58uvui"
      }
    }
  ]
}